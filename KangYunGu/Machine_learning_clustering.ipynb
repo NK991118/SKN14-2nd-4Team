{
 "cells": [
  {
   "metadata": {
    "ExecuteTime": {
     "end_time": "2025-06-02T06:28:05.379323Z",
     "start_time": "2025-06-02T06:28:03.278795Z"
    }
   },
   "cell_type": "code",
   "source": "%pip install lightgbm\n",
   "id": "5a8ae782e67d2ff8",
   "outputs": [
    {
     "name": "stdout",
     "output_type": "stream",
     "text": [
      "Requirement already satisfied: lightgbm in c:\\users\\play data\\miniconda3\\lib\\site-packages (4.6.0)\n",
      "Requirement already satisfied: numpy>=1.17.0 in c:\\users\\play data\\miniconda3\\lib\\site-packages (from lightgbm) (2.2.5)\n",
      "Requirement already satisfied: scipy in c:\\users\\play data\\miniconda3\\lib\\site-packages (from lightgbm) (1.15.3)\n",
      "Note: you may need to restart the kernel to use updated packages.\n"
     ]
    }
   ],
   "execution_count": 13
  },
  {
   "metadata": {
    "ExecuteTime": {
     "end_time": "2025-06-02T06:22:37.629077Z",
     "start_time": "2025-06-02T06:22:35.165929Z"
    }
   },
   "cell_type": "code",
   "source": "%pip install imblearn",
   "id": "80b69b62a4f1f37",
   "outputs": [
    {
     "name": "stdout",
     "output_type": "stream",
     "text": [
      "Collecting imblearn\n",
      "  Downloading imblearn-0.0-py2.py3-none-any.whl.metadata (355 bytes)\n",
      "Requirement already satisfied: imbalanced-learn in c:\\users\\play data\\miniconda3\\lib\\site-packages (from imblearn) (0.13.0)\n",
      "Requirement already satisfied: numpy<3,>=1.24.3 in c:\\users\\play data\\miniconda3\\lib\\site-packages (from imbalanced-learn->imblearn) (2.2.5)\n",
      "Requirement already satisfied: scipy<2,>=1.10.1 in c:\\users\\play data\\miniconda3\\lib\\site-packages (from imbalanced-learn->imblearn) (1.15.3)\n",
      "Requirement already satisfied: scikit-learn<2,>=1.3.2 in c:\\users\\play data\\miniconda3\\lib\\site-packages (from imbalanced-learn->imblearn) (1.6.1)\n",
      "Requirement already satisfied: sklearn-compat<1,>=0.1 in c:\\users\\play data\\miniconda3\\lib\\site-packages (from imbalanced-learn->imblearn) (0.1.3)\n",
      "Requirement already satisfied: joblib<2,>=1.1.1 in c:\\users\\play data\\miniconda3\\lib\\site-packages (from imbalanced-learn->imblearn) (1.5.0)\n",
      "Requirement already satisfied: threadpoolctl<4,>=2.0.0 in c:\\users\\play data\\miniconda3\\lib\\site-packages (from imbalanced-learn->imblearn) (3.6.0)\n",
      "Downloading imblearn-0.0-py2.py3-none-any.whl (1.9 kB)\n",
      "Installing collected packages: imblearn\n",
      "Successfully installed imblearn-0.0\n",
      "Note: you may need to restart the kernel to use updated packages.\n"
     ]
    }
   ],
   "execution_count": 5
  },
  {
   "cell_type": "code",
   "id": "initial_id",
   "metadata": {
    "collapsed": true,
    "ExecuteTime": {
     "end_time": "2025-06-02T06:19:59.970915Z",
     "start_time": "2025-06-02T06:19:58.261680Z"
    }
   },
   "source": "%pip install imbalanced-learn xgboost",
   "outputs": [
    {
     "name": "stdout",
     "output_type": "stream",
     "text": [
      "Requirement already satisfied: imbalanced-learn in c:\\users\\play data\\miniconda3\\lib\\site-packages (0.13.0)\n",
      "Requirement already satisfied: xgboost in c:\\users\\play data\\miniconda3\\lib\\site-packages (3.0.1)\n",
      "Requirement already satisfied: numpy<3,>=1.24.3 in c:\\users\\play data\\miniconda3\\lib\\site-packages (from imbalanced-learn) (2.2.5)\n",
      "Requirement already satisfied: scipy<2,>=1.10.1 in c:\\users\\play data\\miniconda3\\lib\\site-packages (from imbalanced-learn) (1.15.3)\n",
      "Requirement already satisfied: scikit-learn<2,>=1.3.2 in c:\\users\\play data\\miniconda3\\lib\\site-packages (from imbalanced-learn) (1.6.1)\n",
      "Requirement already satisfied: sklearn-compat<1,>=0.1 in c:\\users\\play data\\miniconda3\\lib\\site-packages (from imbalanced-learn) (0.1.3)\n",
      "Requirement already satisfied: joblib<2,>=1.1.1 in c:\\users\\play data\\miniconda3\\lib\\site-packages (from imbalanced-learn) (1.5.0)\n",
      "Requirement already satisfied: threadpoolctl<4,>=2.0.0 in c:\\users\\play data\\miniconda3\\lib\\site-packages (from imbalanced-learn) (3.6.0)\n",
      "Note: you may need to restart the kernel to use updated packages.\n"
     ]
    }
   ],
   "execution_count": 1
  },
  {
   "metadata": {
    "ExecuteTime": {
     "end_time": "2025-06-02T06:24:04.716519Z",
     "start_time": "2025-06-02T06:24:02.852621Z"
    }
   },
   "cell_type": "code",
   "source": "%pip install category_encoders imbalanced-learn xgboost lightgbm catboost\n",
   "id": "da9150098f00a783",
   "outputs": [
    {
     "name": "stdout",
     "output_type": "stream",
     "text": [
      "Requirement already satisfied: category_encoders in c:\\users\\play data\\miniconda3\\lib\\site-packages (2.8.1)\n",
      "Requirement already satisfied: imbalanced-learn in c:\\users\\play data\\miniconda3\\lib\\site-packages (0.13.0)\n",
      "Requirement already satisfied: xgboost in c:\\users\\play data\\miniconda3\\lib\\site-packages (3.0.1)\n",
      "Requirement already satisfied: lightgbm in c:\\users\\play data\\miniconda3\\lib\\site-packages (4.6.0)\n",
      "Requirement already satisfied: catboost in c:\\users\\play data\\miniconda3\\lib\\site-packages (1.2.8)\n",
      "Requirement already satisfied: numpy>=1.14.0 in c:\\users\\play data\\miniconda3\\lib\\site-packages (from category_encoders) (2.2.5)\n",
      "Requirement already satisfied: pandas>=1.0.5 in c:\\users\\play data\\miniconda3\\lib\\site-packages (from category_encoders) (2.2.3)\n",
      "Requirement already satisfied: patsy>=0.5.1 in c:\\users\\play data\\miniconda3\\lib\\site-packages (from category_encoders) (1.0.1)\n",
      "Requirement already satisfied: scikit-learn>=1.6.0 in c:\\users\\play data\\miniconda3\\lib\\site-packages (from category_encoders) (1.6.1)\n",
      "Requirement already satisfied: scipy>=1.0.0 in c:\\users\\play data\\miniconda3\\lib\\site-packages (from category_encoders) (1.15.3)\n",
      "Requirement already satisfied: statsmodels>=0.9.0 in c:\\users\\play data\\miniconda3\\lib\\site-packages (from category_encoders) (0.14.4)\n",
      "Requirement already satisfied: sklearn-compat<1,>=0.1 in c:\\users\\play data\\miniconda3\\lib\\site-packages (from imbalanced-learn) (0.1.3)\n",
      "Requirement already satisfied: joblib<2,>=1.1.1 in c:\\users\\play data\\miniconda3\\lib\\site-packages (from imbalanced-learn) (1.5.0)\n",
      "Requirement already satisfied: threadpoolctl<4,>=2.0.0 in c:\\users\\play data\\miniconda3\\lib\\site-packages (from imbalanced-learn) (3.6.0)\n",
      "Requirement already satisfied: graphviz in c:\\users\\play data\\miniconda3\\lib\\site-packages (from catboost) (0.20.3)\n",
      "Requirement already satisfied: matplotlib in c:\\users\\play data\\miniconda3\\lib\\site-packages (from catboost) (3.10.1)\n",
      "Requirement already satisfied: plotly in c:\\users\\play data\\miniconda3\\lib\\site-packages (from catboost) (6.1.1)\n",
      "Requirement already satisfied: six in c:\\users\\play data\\miniconda3\\lib\\site-packages (from catboost) (1.17.0)\n",
      "Requirement already satisfied: python-dateutil>=2.8.2 in c:\\users\\play data\\miniconda3\\lib\\site-packages (from pandas>=1.0.5->category_encoders) (2.9.0.post0)\n",
      "Requirement already satisfied: pytz>=2020.1 in c:\\users\\play data\\miniconda3\\lib\\site-packages (from pandas>=1.0.5->category_encoders) (2025.2)\n",
      "Requirement already satisfied: tzdata>=2022.7 in c:\\users\\play data\\miniconda3\\lib\\site-packages (from pandas>=1.0.5->category_encoders) (2025.2)\n",
      "Requirement already satisfied: packaging>=21.3 in c:\\users\\play data\\miniconda3\\lib\\site-packages (from statsmodels>=0.9.0->category_encoders) (24.2)\n",
      "Requirement already satisfied: contourpy>=1.0.1 in c:\\users\\play data\\miniconda3\\lib\\site-packages (from matplotlib->catboost) (1.3.2)\n",
      "Requirement already satisfied: cycler>=0.10 in c:\\users\\play data\\miniconda3\\lib\\site-packages (from matplotlib->catboost) (0.12.1)\n",
      "Requirement already satisfied: fonttools>=4.22.0 in c:\\users\\play data\\miniconda3\\lib\\site-packages (from matplotlib->catboost) (4.57.0)\n",
      "Requirement already satisfied: kiwisolver>=1.3.1 in c:\\users\\play data\\miniconda3\\lib\\site-packages (from matplotlib->catboost) (1.4.8)\n",
      "Requirement already satisfied: pillow>=8 in c:\\users\\play data\\miniconda3\\lib\\site-packages (from matplotlib->catboost) (11.2.1)\n",
      "Requirement already satisfied: pyparsing>=2.3.1 in c:\\users\\play data\\miniconda3\\lib\\site-packages (from matplotlib->catboost) (3.2.3)\n",
      "Requirement already satisfied: narwhals>=1.15.1 in c:\\users\\play data\\miniconda3\\lib\\site-packages (from plotly->catboost) (1.36.0)\n",
      "Note: you may need to restart the kernel to use updated packages.\n"
     ]
    }
   ],
   "execution_count": 6
  },
  {
   "metadata": {
    "ExecuteTime": {
     "end_time": "2025-06-02T06:40:12.885631Z",
     "start_time": "2025-06-02T06:40:12.786256Z"
    }
   },
   "cell_type": "code",
   "source": [
    "import pandas as pd\n",
    "import numpy as np\n",
    "from sklearn.model_selection import train_test_split\n",
    "from sklearn.preprocessing import StandardScaler\n",
    "from sklearn.cluster import KMeans\n",
    "from sklearn.metrics import accuracy_score, f1_score\n",
    "from lightgbm import LGBMClassifier\n",
    "\n",
    "# 1. 데이터 불러오기 및 전처리\n",
    "df = pd.read_csv('data/Employee_Attrition.csv')\n",
    "df['Attrition_n'] = df['Attrition'].map({'Yes': 1, 'No': 0})\n",
    "\n",
    "# 사용할 컬럼\n",
    "cols = [\n",
    "    'OverTime', 'TotalWorkingYears', 'JobLevel', 'YearsInCurrentRole',\n",
    "    'MonthlyIncome', 'Age', 'YearsWithCurrManager', 'StockOptionLevel',\n",
    "    'YearsAtCompany', 'JobInvolvement', 'DistanceFromHome',\n",
    "    'JobSatisfaction', 'EnvironmentSatisfaction', 'Gender', 'MaritalStatus',\n",
    "    'JobRole', 'Department', 'BusinessTravel', 'EducationField',\n",
    "    'Education', 'WorkLifeBalance', 'PerformanceRating'\n",
    "]\n",
    "df = df[cols + ['Attrition_n']].dropna()\n",
    "df_encoded = pd.get_dummies(df, drop_first=True)\n",
    "\n",
    "# 데이터 분할 (누수 방지)\n",
    "X_full = df_encoded.drop(['Attrition_n'], axis=1)\n",
    "y_full = df_encoded['Attrition_n']\n",
    "\n",
    "X_train, X_test, y_train, y_test = train_test_split(X_full, y_full, stratify=y_full, test_size=0.2, random_state=42)\n",
    "\n",
    "# 클러스터링은 학습 데이터에서만 수행\n",
    "leavers_train = X_train[y_train == 1].copy()\n",
    "scaler = StandardScaler()\n",
    "leavers_train_scaled = scaler.fit_transform(leavers_train)\n",
    "\n",
    "kmeans = KMeans(n_clusters=2, random_state=42)\n",
    "leaver_clusters = kmeans.fit_predict(leavers_train_scaled)\n",
    "\n",
    "# 클러스터 결과를 원본 X_train에 병합\n",
    "X_train_clustered = X_train.copy()\n",
    "X_train_clustered.loc[y_train == 1, 'leaver_cluster'] = leaver_clusters\n",
    "X_train_clustered['leaver_cluster'] = X_train_clustered['leaver_cluster'].fillna(0)\n",
    "\n",
    "# X_test에도 동일한 컬럼 추가 (테스트셋에는 클러스터 정보 제공 X)\n",
    "X_test_clustered = X_test.copy()\n",
    "X_test_clustered['leaver_cluster'] = 0  # 중립 값으로 처리\n",
    "\n",
    "# 스케일링\n",
    "scaler_final = StandardScaler()\n",
    "X_train_scaled = scaler_final.fit_transform(X_train_clustered)\n",
    "X_test_scaled = scaler_final.transform(X_test_clustered)\n",
    "\n",
    "# 모델 훈련 및 예측\n",
    "model = LGBMClassifier(random_state=42)\n",
    "model.fit(X_train_scaled, y_train)\n",
    "y_pred = model.predict(X_test_scaled)\n",
    "\n",
    "# 평가\n",
    "acc = accuracy_score(y_test, y_pred)\n",
    "f1 = f1_score(y_test, y_pred)\n",
    "\n",
    "print(f\"Accuracy : {acc:.4f}\")\n",
    "print(f\"F1-Score : {f1:.4f}\")\n"
   ],
   "id": "b64e5c6378cc09c7",
   "outputs": [
    {
     "name": "stdout",
     "output_type": "stream",
     "text": [
      "[LightGBM] [Info] Number of positive: 190, number of negative: 986\n",
      "[LightGBM] [Info] Auto-choosing row-wise multi-threading, the overhead of testing was 0.000171 seconds.\n",
      "You can set `force_row_wise=true` to remove the overhead.\n",
      "And if memory is not enough, you can set `force_col_wise=true`.\n",
      "[LightGBM] [Info] Total Bins 542\n",
      "[LightGBM] [Info] Number of data points in the train set: 1176, number of used features: 37\n",
      "[LightGBM] [Info] [binary:BoostFromScore]: pavg=0.161565 -> initscore=-1.646632\n",
      "[LightGBM] [Info] Start training from score -1.646632\n",
      "[LightGBM] [Warning] No further splits with positive gain, best gain: -inf\n",
      "[LightGBM] [Warning] No further splits with positive gain, best gain: -inf\n",
      "[LightGBM] [Warning] No further splits with positive gain, best gain: -inf\n",
      "[LightGBM] [Warning] No further splits with positive gain, best gain: -inf\n",
      "[LightGBM] [Warning] No further splits with positive gain, best gain: -inf\n",
      "[LightGBM] [Warning] No further splits with positive gain, best gain: -inf\n",
      "[LightGBM] [Warning] No further splits with positive gain, best gain: -inf\n",
      "[LightGBM] [Warning] No further splits with positive gain, best gain: -inf\n",
      "[LightGBM] [Warning] No further splits with positive gain, best gain: -inf\n",
      "Accuracy : 0.8367\n",
      "F1-Score : 0.0000\n"
     ]
    },
    {
     "name": "stderr",
     "output_type": "stream",
     "text": [
      "C:\\Users\\play data\\miniconda3\\Lib\\site-packages\\sklearn\\utils\\validation.py:2739: UserWarning: X does not have valid feature names, but LGBMClassifier was fitted with feature names\n",
      "  warnings.warn(\n"
     ]
    }
   ],
   "execution_count": 18
  },
  {
   "metadata": {
    "ExecuteTime": {
     "end_time": "2025-06-02T06:40:57.813244Z",
     "start_time": "2025-06-02T06:40:57.695952Z"
    }
   },
   "cell_type": "code",
   "source": [
    "import pandas as pd\n",
    "import numpy as np\n",
    "from sklearn.model_selection import train_test_split\n",
    "from sklearn.preprocessing import StandardScaler\n",
    "from sklearn.metrics import accuracy_score, f1_score\n",
    "from imblearn.over_sampling import SMOTE\n",
    "from lightgbm import LGBMClassifier\n",
    "\n",
    "# 📂 데이터 불러오기 및 전처리\n",
    "df = pd.read_csv('data/Employee_Attrition.csv')\n",
    "df['Attrition_n'] = df['Attrition'].map({'Yes': 1, 'No': 0})\n",
    "\n",
    "cols = [\n",
    "    'OverTime', 'TotalWorkingYears', 'JobLevel', 'YearsInCurrentRole',\n",
    "    'MonthlyIncome', 'Age', 'YearsWithCurrManager', 'StockOptionLevel',\n",
    "    'YearsAtCompany', 'JobInvolvement', 'DistanceFromHome',\n",
    "    'JobSatisfaction', 'EnvironmentSatisfaction', 'Gender', 'MaritalStatus',\n",
    "    'JobRole', 'Department', 'BusinessTravel', 'EducationField',\n",
    "    'Education', 'WorkLifeBalance', 'PerformanceRating'\n",
    "]\n",
    "df = df[cols + ['Attrition_n']].dropna()\n",
    "df_encoded = pd.get_dummies(df, drop_first=True)\n",
    "\n",
    "X = df_encoded.drop(\"Attrition_n\", axis=1)\n",
    "y = df_encoded[\"Attrition_n\"]\n",
    "\n",
    "# 📦 데이터 분할\n",
    "X_train, X_test, y_train, y_test = train_test_split(\n",
    "    X, y, stratify=y, test_size=0.2, random_state=42\n",
    ")\n",
    "\n",
    "# 🔧 스케일링\n",
    "scaler = StandardScaler()\n",
    "X_train_scaled = scaler.fit_transform(X_train)\n",
    "X_test_scaled = scaler.transform(X_test)\n",
    "\n",
    "# ⚖️ SMOTE 적용 (이직자 수 증가)\n",
    "smote = SMOTE(random_state=42)\n",
    "X_train_res, y_train_res = smote.fit_resample(X_train_scaled, y_train)\n",
    "\n",
    "# 🚀 모델 학습\n",
    "model = LGBMClassifier(random_state=42)\n",
    "model.fit(X_train_res, y_train_res)\n",
    "\n",
    "# 🎯 예측 및 평가\n",
    "y_pred = model.predict(X_test_scaled)\n",
    "\n",
    "print(\"\\n📊 이진 분류 성능 평가 (SMOTE 적용)\")\n",
    "print(f\"Accuracy : {accuracy_score(y_test, y_pred):.4f}\")\n",
    "print(f\"F1-Score : {f1_score(y_test, y_pred):.4f}\")\n",
    "\n"
   ],
   "id": "7a9853b837dd69bc",
   "outputs": [
    {
     "name": "stdout",
     "output_type": "stream",
     "text": [
      "[LightGBM] [Info] Number of positive: 986, number of negative: 986\n",
      "[LightGBM] [Info] Auto-choosing col-wise multi-threading, the overhead of testing was 0.000680 seconds.\n",
      "You can set `force_col_wise=true` to remove the overhead.\n",
      "[LightGBM] [Info] Total Bins 3932\n",
      "[LightGBM] [Info] Number of data points in the train set: 1972, number of used features: 37\n",
      "[LightGBM] [Info] [binary:BoostFromScore]: pavg=0.500000 -> initscore=0.000000\n",
      "[LightGBM] [Warning] No further splits with positive gain, best gain: -inf\n",
      "Accuracy : 0.8401360544217688\n",
      "F1-Score : 0.11320754716981132\n"
     ]
    },
    {
     "name": "stderr",
     "output_type": "stream",
     "text": [
      "C:\\Users\\play data\\miniconda3\\Lib\\site-packages\\sklearn\\utils\\validation.py:2739: UserWarning: X does not have valid feature names, but LGBMClassifier was fitted with feature names\n",
      "  warnings.warn(\n"
     ]
    }
   ],
   "execution_count": 19
  }
 ],
 "metadata": {
  "kernelspec": {
   "display_name": "Python 3",
   "language": "python",
   "name": "python3"
  },
  "language_info": {
   "codemirror_mode": {
    "name": "ipython",
    "version": 2
   },
   "file_extension": ".py",
   "mimetype": "text/x-python",
   "name": "python",
   "nbconvert_exporter": "python",
   "pygments_lexer": "ipython2",
   "version": "2.7.6"
  }
 },
 "nbformat": 4,
 "nbformat_minor": 5
}
