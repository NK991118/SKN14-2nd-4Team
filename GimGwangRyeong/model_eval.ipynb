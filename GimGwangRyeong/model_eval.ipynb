{
 "cells": [
  {
   "cell_type": "code",
   "id": "initial_id",
   "metadata": {
    "collapsed": true,
    "ExecuteTime": {
     "end_time": "2025-06-01T07:52:23.089967Z",
     "start_time": "2025-06-01T07:52:23.086641Z"
    }
   },
   "source": [
    "import numpy as np\n",
    "import matplotlib.pyplot as plt\n",
    "import pandas as pd\n",
    "import seaborn as sns"
   ],
   "outputs": [],
   "execution_count": 1
  },
  {
   "metadata": {
    "ExecuteTime": {
     "end_time": "2025-06-01T08:26:45.744858Z",
     "start_time": "2025-06-01T08:26:45.593194Z"
    }
   },
   "cell_type": "code",
   "source": [
    "import pandas as pd\n",
    "import matplotlib.pyplot as plt\n",
    "\n",
    "# CSV 파일 경로\n",
    "files = {\n",
    "    \"RandomForest\": \"data/RandomForest_metrics.csv\",\n",
    "    \"XGBoost\": \"data/XGBoost_metrics.csv\",\n",
    "    \"SVC\": \"data/SVC_metrics.csv\",\n",
    "    \"MLP\": \"data/MLP_metrics.csv\"\n",
    "}\n",
    "\n",
    "# 데이터프레임 로드 및 각 지표 평균 계산\n",
    "metrics_avg = {}\n",
    "for model, path in files.items():\n",
    "    df = pd.read_csv(path)\n",
    "    metrics_avg[model] = df.mean()\n",
    "\n",
    "# 데이터프레임 생성 (모델별, 평가 지표별 평균)\n",
    "avg_df = pd.DataFrame(metrics_avg).T\n",
    "\n",
    "# 모델별로 그룹화된 바 차트 그리기 (x축: 모델, 색상별: metric)\n",
    "labels = avg_df.index.tolist()  # 모델명 리스트\n",
    "metrics = avg_df.columns.tolist()  # ['Accuracy', 'Precision', 'Recall', 'F1_Score']\n",
    "\n",
    "x = np.arange(len(labels))  # 모델 개수\n",
    "width = 0.2  # 막대 너비\n",
    "\n",
    "fig, ax = plt.subplots(figsize=(10, 6))\n",
    "\n",
    "for i, metric in enumerate(metrics):\n",
    "    ax.bar(x + i*width, avg_df[metric], width, label=metric)\n",
    "\n",
    "ax.set_xticks(x + width * (len(metrics) - 1) / 2)\n",
    "ax.set_xticklabels(labels)\n",
    "ax.set_ylim(0.7, 1.0)\n",
    "ax.set_title('모델별 평가 지표 평균 비교')\n",
    "ax.set_ylabel('평균 점수')\n",
    "ax.legend()\n",
    "ax.grid(axis='y')\n",
    "\n",
    "plt.show()\n"
   ],
   "id": "8e426e975a1d58e3",
   "outputs": [
    {
     "name": "stderr",
     "output_type": "stream",
     "text": [
      "C:\\Users\\iamkk\\anaconda3\\envs\\ai_basic_env\\Lib\\site-packages\\IPython\\core\\pylabtools.py:170: UserWarning: Glyph 54217 (\\N{HANGUL SYLLABLE PYEONG}) missing from font(s) Arial.\n",
      "  fig.canvas.print_figure(bytes_io, **kw)\n",
      "C:\\Users\\iamkk\\anaconda3\\envs\\ai_basic_env\\Lib\\site-packages\\IPython\\core\\pylabtools.py:170: UserWarning: Glyph 44512 (\\N{HANGUL SYLLABLE GYUN}) missing from font(s) Arial.\n",
      "  fig.canvas.print_figure(bytes_io, **kw)\n",
      "C:\\Users\\iamkk\\anaconda3\\envs\\ai_basic_env\\Lib\\site-packages\\IPython\\core\\pylabtools.py:170: UserWarning: Glyph 51216 (\\N{HANGUL SYLLABLE JEOM}) missing from font(s) Arial.\n",
      "  fig.canvas.print_figure(bytes_io, **kw)\n",
      "C:\\Users\\iamkk\\anaconda3\\envs\\ai_basic_env\\Lib\\site-packages\\IPython\\core\\pylabtools.py:170: UserWarning: Glyph 49688 (\\N{HANGUL SYLLABLE SU}) missing from font(s) Arial.\n",
      "  fig.canvas.print_figure(bytes_io, **kw)\n",
      "C:\\Users\\iamkk\\anaconda3\\envs\\ai_basic_env\\Lib\\site-packages\\IPython\\core\\pylabtools.py:170: UserWarning: Glyph 47784 (\\N{HANGUL SYLLABLE MO}) missing from font(s) Arial.\n",
      "  fig.canvas.print_figure(bytes_io, **kw)\n",
      "C:\\Users\\iamkk\\anaconda3\\envs\\ai_basic_env\\Lib\\site-packages\\IPython\\core\\pylabtools.py:170: UserWarning: Glyph 45944 (\\N{HANGUL SYLLABLE DEL}) missing from font(s) Arial.\n",
      "  fig.canvas.print_figure(bytes_io, **kw)\n",
      "C:\\Users\\iamkk\\anaconda3\\envs\\ai_basic_env\\Lib\\site-packages\\IPython\\core\\pylabtools.py:170: UserWarning: Glyph 48324 (\\N{HANGUL SYLLABLE BYEOL}) missing from font(s) Arial.\n",
      "  fig.canvas.print_figure(bytes_io, **kw)\n",
      "C:\\Users\\iamkk\\anaconda3\\envs\\ai_basic_env\\Lib\\site-packages\\IPython\\core\\pylabtools.py:170: UserWarning: Glyph 44032 (\\N{HANGUL SYLLABLE GA}) missing from font(s) Arial.\n",
      "  fig.canvas.print_figure(bytes_io, **kw)\n",
      "C:\\Users\\iamkk\\anaconda3\\envs\\ai_basic_env\\Lib\\site-packages\\IPython\\core\\pylabtools.py:170: UserWarning: Glyph 51648 (\\N{HANGUL SYLLABLE JI}) missing from font(s) Arial.\n",
      "  fig.canvas.print_figure(bytes_io, **kw)\n",
      "C:\\Users\\iamkk\\anaconda3\\envs\\ai_basic_env\\Lib\\site-packages\\IPython\\core\\pylabtools.py:170: UserWarning: Glyph 54364 (\\N{HANGUL SYLLABLE PYO}) missing from font(s) Arial.\n",
      "  fig.canvas.print_figure(bytes_io, **kw)\n",
      "C:\\Users\\iamkk\\anaconda3\\envs\\ai_basic_env\\Lib\\site-packages\\IPython\\core\\pylabtools.py:170: UserWarning: Glyph 48708 (\\N{HANGUL SYLLABLE BI}) missing from font(s) Arial.\n",
      "  fig.canvas.print_figure(bytes_io, **kw)\n",
      "C:\\Users\\iamkk\\anaconda3\\envs\\ai_basic_env\\Lib\\site-packages\\IPython\\core\\pylabtools.py:170: UserWarning: Glyph 44368 (\\N{HANGUL SYLLABLE GYO}) missing from font(s) Arial.\n",
      "  fig.canvas.print_figure(bytes_io, **kw)\n"
     ]
    },
    {
     "data": {
      "text/plain": [
       "<Figure size 1000x600 with 1 Axes>"
      ],
      "image/png": "[encoded data removed]"
     },
     "metadata": {},
     "output_type": "display_data"
    }
   ],
   "execution_count": 14
  },
  {
   "metadata": {},
   "cell_type": "markdown",
   "source": [
    "# 최적 하이퍼 파라미터 요약\n",
    "\n",
    "---\n",
    "\n",
    "## RandomForest\n",
    "\n",
    "- max_depth : 15 (가장 자주 등장)\n",
    "- min_samples_leaf : 1 (모두 1)\n",
    "- min_samples_split : 2 (모두 2)\n",
    "- n_estimators : 200 (빈번히 등장, 100과 50도 있으나 200이 가장 많음)\n",
    "\n",
    "---\n",
    "\n",
    "## XGBoost\n",
    "\n",
    "- colsample_bytree : 0.8 (가장 많이 최적값)\n",
    "- learning_rate : 0.05, 0.1 (0.05가 약간 더 자주 나타남)\n",
    "- max_depth : 5, 7, 9 (5와 9가 자주 보이나 9가 조금 더 많음)\n",
    "- n_estimators : 100, 200 (200이 조금 더 많음)\n",
    "- subsample : 0.8, 1.0 (0.8이 조금 더 빈번)\n",
    "\n",
    "---\n",
    "\n",
    "## SVC\n",
    "\n",
    "- C : 10 (전부 동일)\n",
    "- class_weight : None (더 자주 나오지만 'balanced' 도 몇 번 있음)\n",
    "- gamma : 'scale' (전부 동일)\n",
    "- kernel : 'rbf' (전부 동일)\n",
    "- shrinking : True (대부분 True, False는 1~2회)\n",
    "\n",
    "---\n",
    "\n",
    "## MLPClassifier\n",
    "\n",
    "- activation : 'relu' (더 많이 나옴), 'tanh'도 일부 우수 결과 있음\n",
    "- alpha : 0.001 (가장 자주 등장), 0.01도 일부 우수 결과\n",
    "- hidden_layer_sizes : (100, 50) (가장 많이 등장), (100,), (50, 50)도 있음\n",
    "- solver : 'adam' (전부 동일)\n"
   ],
   "id": "b7c701bb9904219a"
  }
 ],
 "metadata": {
  "kernelspec": {
   "display_name": "Python 3",
   "language": "python",
   "name": "python3"
  },
  "language_info": {
   "codemirror_mode": {
    "name": "ipython",
    "version": 2
   },
   "file_extension": ".py",
   "mimetype": "text/x-python",
   "name": "python",
   "nbconvert_exporter": "python",
   "pygments_lexer": "ipython2",
   "version": "2.7.6"
  }
 },
 "nbformat": 4,
 "nbformat_minor": 5
}
