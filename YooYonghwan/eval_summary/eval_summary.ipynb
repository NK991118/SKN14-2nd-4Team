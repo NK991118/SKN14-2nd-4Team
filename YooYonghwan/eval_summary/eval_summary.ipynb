{
 "cells": [
  {
   "metadata": {},
   "cell_type": "markdown",
   "source": [
    "| Model             | Accuracy | Precision | Recall  | F1 Score | ROC AUC | F1(Test) |\n",
    "|------------------|----------|-----------|---------|----------|---------|----------|\n",
    "| Decision Tree     | 0.8372   | 0.8268    | 0.8539  | 0.8399   | 0.8372  | 0.8538   |\n",
    "| KNN               | 0.8463   | 0.7855    | 0.9554  | 0.8618   | 0.8463  | 0.8613   |\n",
    "| Logistic Regression | 0.7525 | 0.7474    | 0.7637  | 0.7553   | 0.7526  | 0.7375   |\n",
    "| Random Forest     | 0.8316   | 0.8442    | 0.8134  | 0.8284   | 0.8316  | 0.8417   |\n",
    "| Voting Classifier | 0.8301   | 0.8351    | 0.8232  | 0.8290   | 0.9085  | -        |\n",
    "| SVC               | 0.7041   | 0.3045    | 0.6316  | 0.4097   | 0.6748  | -        |\n",
    "| XGBoost           | 0.7789   | 0.3663    | 0.5105  | 0.4257   | 0.6706  | -        |\n",
    "| 5-Fold Best Model | 0.8820   | 0.8598    | 0.9132  | 0.8856   | 0.9385  | -        |\n"
   ],
   "id": "5ea12671fb43742d"
  },
  {
   "metadata": {},
   "cell_type": "markdown",
   "source": [
    "📌 비고:\n",
    "\n",
    "VotingClassifier와 5-Fold Best Model은 앙상블 또는 최종 모델 성능으로 보이며, f1(Test)는 없지만 교차검증 기준 성능이 우수합니다.\n",
    "\n",
    "SVC, XGBoost는 다른 모델에 비해 상대적으로 낮은 성능을 보입니다.\n",
    "\n",
    "KNN은 Recall이 매우 높으며, F1도 우수하여 이직 예측 등 민감한 클래스 탐지에 유리합니다.\n",
    "\n",
    "최종 선택은 목적(precision vs recall 중시)에 따라 달라질 수 있습니다.\n",
    "\n",
    "필요 시 시각화 그래프나 정렬된 순위도 제공 가능합니다."
   ],
   "id": "39ca1576fe841be0"
  }
 ],
 "metadata": {
  "kernelspec": {
   "display_name": "Python 3",
   "language": "python",
   "name": "python3"
  },
  "language_info": {
   "codemirror_mode": {
    "name": "ipython",
    "version": 2
   },
   "file_extension": ".py",
   "mimetype": "text/x-python",
   "name": "python",
   "nbconvert_exporter": "python",
   "pygments_lexer": "ipython2",
   "version": "2.7.6"
  }
 },
 "nbformat": 4,
 "nbformat_minor": 5
}
