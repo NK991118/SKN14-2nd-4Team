{
 "cells": [
  {
   "metadata": {},
   "cell_type": "markdown",
   "source": [
    "🧠 1. ROC Curve란? <br>\n",
    "ROC Curve는 이진 분류 모델의 분류 성능을 시각적으로 평가하기 위한 그래프입니다. <br>\n",
    "특히 **분류 기준(threshold)**을 바꿔가며 모델이 **양성 클래스(1)**를 얼마나 잘 분류하는지를 나타냅니다.\n",
    "\n"
   ],
   "id": "bc20d4a229d392b6"
  },
  {
   "metadata": {},
   "cell_type": "markdown",
   "source": [
    "🧱 2. ROC Curve의 축 구성\n",
    "| 축            | 설명                                                                     |\n",
    "| ------------ | ---------------------------------------------------------------------- |\n",
    "| **x축 (FPR)** | False Positive Rate = FP / (FP + TN)<br>→ \"실제는 음성인데 양성이라 예측한 비율\"       |\n",
    "| **y축 (TPR)** | True Positive Rate = Recall = TP / (TP + FN)<br>→ \"실제 양성을 얼마나 잘 찾아내는가\" |\n"
   ],
   "id": "237ead273cf1cbe9"
  },
  {
   "metadata": {},
   "cell_type": "markdown",
   "source": [
    "⚙️ 3. 메커니즘\n",
    "ROC Curve는 다음과 같은 과정을 통해 만들어집니다:\n",
    "\n",
    "**분류 모델의 예측 확률(probability score)**을 기준으로 다양한 threshold를 설정\n",
    "\n",
    "예: 0.1, 0.2, ..., 0.9\n",
    "\n",
    "각 threshold마다 TPR(재현율)과 FPR(위양성률)을 계산\n",
    "\n",
    "그 값을 점으로 찍고 (FPR, TPR) 그래프로 연결하여 곡선 생성\n",
    "\n",
    "ROC Curve 아래 면적을 계산한 값이 AUC (Area Under Curve)\n",
    "\n"
   ],
   "id": "ead26e49fee60973"
  },
  {
   "metadata": {},
   "cell_type": "markdown",
   "source": [
    "🧮 4. AUC 값의 의미\n",
    "| AUC 값      | 성능 해석               |\n",
    "| ---------- | ------------------- |\n",
    "| 1.0        | 완벽한 분류기             |\n",
    "| 0.9 이상     | 매우 뛰어난 모델           |\n",
    "| 0.8 \\~ 0.9 | 좋은 성능               |\n",
    "| 0.7 \\~ 0.8 | 쓸만한 성능              |\n",
    "| 0.5 \\~ 0.7 | 의미 있는 정보 부족 (랜덤 수준) |\n",
    "| 0.5        | 완전 랜덤 (무의미한 모델)     |\n",
    "| < 0.5      | 성능 나쁨 (예측이 반대로 작동)  |\n"
   ],
   "id": "4eaad5f741f4f14e"
  },
  {
   "metadata": {},
   "cell_type": "markdown",
   "source": [
    "🔍 ROC Curve vs Precision-Recall Curve\n",
    "| 비교 항목  | ROC Curve    | PR Curve             |\n",
    "| ------ | ------------ | -------------------- |\n",
    "| X축     | FPR          | Recall               |\n",
    "| Y축     | TPR (Recall) | Precision            |\n",
    "| 적합한 경우 | 클래스 균형인 경우   | 클래스 **불균형** 문제에 더 유리 |\n",
    "| 초점     | 전체 예측 성능     | **양성 클래스**에 초점       |\n"
   ],
   "id": "b75086af9d951f4e"
  }
 ],
 "metadata": {
  "kernelspec": {
   "display_name": "Python 3",
   "language": "python",
   "name": "python3"
  },
  "language_info": {
   "codemirror_mode": {
    "name": "ipython",
    "version": 2
   },
   "file_extension": ".py",
   "mimetype": "text/x-python",
   "name": "python",
   "nbconvert_exporter": "python",
   "pygments_lexer": "ipython2",
   "version": "2.7.6"
  }
 },
 "nbformat": 4,
 "nbformat_minor": 5
}
