{
 "cells": [
  {
   "metadata": {},
   "cell_type": "markdown",
   "source": [
    "# 🧠 One-Hot 인코딩이란?\n",
    "범주형(Categorical) 데이터를 기계 학습 모델이 이해할 수 있도록\n",
    "숫자형으로 바꾸는 대표적인 인코딩 방식입니다."
   ],
   "id": "9e7dc1ca1f3eda64"
  },
  {
   "metadata": {},
   "cell_type": "markdown",
   "source": [
    "✅ 예시\n",
    "🎯 원본 데이터\n",
    "| Color |\n",
    "| ----- |\n",
    "| Red   |\n",
    "| Green |\n",
    "| Blue  |\n"
   ],
   "id": "6e845da604af572e"
  },
  {
   "metadata": {},
   "cell_type": "markdown",
   "source": [
    "⬇️ One-Hot 인코딩 결과\n",
    "| Color\\_Red | Color\\_Green | Color\\_Blue |\n",
    "| ---------- | ------------ | ----------- |\n",
    "| 1          | 0            | 0           |\n",
    "| 0          | 1            | 0           |\n",
    "| 0          | 0            | 1           |\n"
   ],
   "id": "f88c934de62f7abe"
  },
  {
   "metadata": {},
   "cell_type": "markdown",
   "source": [
    "✅ Python 코드 예제\n",
    "\n",
    "```python\n",
    "import pandas as pd\n",
    "\n",
    "df = pd.DataFrame({'Color': ['Red', 'Green', 'Blue', 'Green']})\n",
    "\n",
    "# One-hot 인코딩\n",
    "df_encoded = pd.get_dummies(df)\n",
    "\n",
    "print(df_encoded)\n",
    "```\n",
    "\n",
    "📌 출력 결과\n",
    "\n",
    "```python\n",
    "   Color_Blue  Color_Green  Color_Red\n",
    "0           0            0          1\n",
    "1           0            1          0\n",
    "2           1            0          0\n",
    "3           0            1          0\n",
    "```"
   ],
   "id": "d5ebf65f057cd764"
  },
  {
   "metadata": {},
   "cell_type": "markdown",
   "source": [
    "✅ drop_first=True 옵션\n",
    "```python\n",
    "pd.get_dummies(df, drop_first=True)\n",
    "```\n",
    "\n",
    "- 첫 번째 컬럼을 제거하여 더미 변수 함정(Dummy Variable Trap) 방지\n",
    "- 예: Color_Red 컬럼 제거 → Color_Blue, Color_Green만 유지해도 정보 손실 없음"
   ],
   "id": "195a29bf9c1c883f"
  },
  {
   "metadata": {},
   "cell_type": "markdown",
   "source": [
    "✅ 특징 비교\n",
    "| 항목    | 설명                            |\n",
    "| ----- | ----------------------------- |\n",
    "| ✔️ 장점 | 직관적이고 모델 해석이 용이함              |\n",
    "| ❌ 단점  | 범주 수가 많으면 **차원이 폭발** (차원의 저주) |\n"
   ],
   "id": "ef1f93ae5c0650e3"
  },
  {
   "metadata": {},
   "cell_type": "markdown",
   "source": [
    "✅ 사용 시점\n",
    "- 순서 없는 범주형 변수 (예: 직업, 지역, 성별 등)\n",
    "- Logistic Regression, KNN, Tree 모델 등 범주형을 숫자로 바꿔야 할 때\n",
    "- 신경망 입력에서 범주형을 수치로 표현할 때\n",
    "\n"
   ],
   "id": "fe7270515810a1dc"
  },
  {
   "metadata": {},
   "cell_type": "markdown",
   "source": [
    "⚠️ 주의 사항\n",
    "- LabelEncoder는 **타겟(y)**에 사용하고,\n",
    "- 입력 X의 범주형 변수에는 One-Hot Encoding을 사용해야 모델이 오해하지 않습니다."
   ],
   "id": "9a6d8e91d2a2eaa"
  }
 ],
 "metadata": {
  "kernelspec": {
   "display_name": "Python 3",
   "language": "python",
   "name": "python3"
  },
  "language_info": {
   "codemirror_mode": {
    "name": "ipython",
    "version": 2
   },
   "file_extension": ".py",
   "mimetype": "text/x-python",
   "name": "python",
   "nbconvert_exporter": "python",
   "pygments_lexer": "ipython2",
   "version": "2.7.6"
  }
 },
 "nbformat": 4,
 "nbformat_minor": 5
}
