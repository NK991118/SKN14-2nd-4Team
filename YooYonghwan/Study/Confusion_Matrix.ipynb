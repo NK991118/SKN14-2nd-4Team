{
 "cells": [
  {
   "metadata": {},
   "cell_type": "markdown",
   "source": "# Confusion Matrix (혼동행렬)",
   "id": "90390745bf3f207a"
  },
  {
   "metadata": {},
   "cell_type": "markdown",
   "source": [
    "🧱 기본 구조 (이진 분류 기준)\n",
    "|                     | **실제 Positive (1)** | **실제 Negative (0)** |\n",
    "| ------------------- | ------------------- | ------------------- |\n",
    "| **예측 Positive (1)** | TP (True Positive)  | FP (False Positive) |\n",
    "| **예측 Negative (0)** | FN (False Negative) | TN (True Negative)  |\n"
   ],
   "id": "a8b9f9310c223a4d"
  },
  {
   "metadata": {},
   "cell_type": "markdown",
   "source": [
    "🧠 각 항목 설명\n",
    "| 용어                      | 의미                                   |\n",
    "| ----------------------- | ------------------------------------ |\n",
    "| **TP (True Positive)**  | 실제 값도 1이고 예측도 1 (정답 맞춤)              |\n",
    "| **TN (True Negative)**  | 실제 값도 0이고 예측도 0 (정답 맞춤)              |\n",
    "| **FP (False Positive)** | 실제 값은 0인데 예측은 1 (오답 - Type I error)  |\n",
    "| **FN (False Negative)** | 실제 값은 1인데 예측은 0 (오답 - Type II error) |\n"
   ],
   "id": "3afc6a2181499346"
  },
  {
   "metadata": {},
   "cell_type": "markdown",
   "source": [
    "⚙️ 메커니즘\n",
    "예측값과 실제값을 비교<br>\n",
    "→ 각각의 데이터에 대해 예측값과 실제값을 비교하여 네 가지 경우 중 하나로 분류합니다.\n",
    "\n",
    "행렬 업데이트<br>\n",
    "→ 각 경우에 해당하는 셀(TP, TN, FP, FN)의 값을 1씩 증가시켜 행렬을 구성합니다."
   ],
   "id": "8a5695722baa428c"
  },
  {
   "metadata": {},
   "cell_type": "markdown",
   "source": [
    "🧮 관련 성능 지표 계산\n",
    "Confusion Matrix를 통해 다음과 같은 지표들을 계산할 수 있습니다:\n",
    "| 지표                       | 공식                                                | 설명                       |\n",
    "| ------------------------ | ------------------------------------------------- | ------------------------ |\n",
    "| **Accuracy**             | (TP + TN) / (TP + TN + FP + FN)                   | 전체 데이터 중 맞게 예측한 비율       |\n",
    "| **Precision**            | TP / (TP + FP)                                    | 양성이라 예측한 것 중 실제 양성 비율    |\n",
    "| **Recall (Sensitivity)** | TP / (TP + FN)                                    | 실제 양성 중에서 정확히 예측한 비율     |\n",
    "| **F1 Score**             | 2 \\* (Precision \\* Recall) / (Precision + Recall) | Precision과 Recall의 조화 평균 |\n"
   ],
   "id": "156bafce6727c761"
  }
 ],
 "metadata": {
  "kernelspec": {
   "display_name": "Python 3",
   "language": "python",
   "name": "python3"
  },
  "language_info": {
   "codemirror_mode": {
    "name": "ipython",
    "version": 2
   },
   "file_extension": ".py",
   "mimetype": "text/x-python",
   "name": "python",
   "nbconvert_exporter": "python",
   "pygments_lexer": "ipython2",
   "version": "2.7.6"
  }
 },
 "nbformat": 4,
 "nbformat_minor": 5
}
