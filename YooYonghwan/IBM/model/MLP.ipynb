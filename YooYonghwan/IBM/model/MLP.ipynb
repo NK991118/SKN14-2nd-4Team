{
 "cells": [
  {
   "cell_type": "code",
   "id": "initial_id",
   "metadata": {
    "collapsed": true,
    "ExecuteTime": {
     "end_time": "2025-06-01T11:51:51.271805Z",
     "start_time": "2025-06-01T11:51:42.585033Z"
    }
   },
   "source": [
    "import pandas as pd\n",
    "import numpy as np\n",
    "from sklearn.preprocessing import StandardScaler\n",
    "from sklearn.model_selection import train_test_split, StratifiedKFold, cross_validate\n",
    "from sklearn.neural_network import MLPClassifier\n",
    "from sklearn.metrics import (\n",
    "    f1_score, accuracy_score, precision_score, recall_score, roc_auc_score,\n",
    "    classification_report\n",
    ")\n",
    "from imblearn.over_sampling import SMOTE\n",
    "import warnings\n",
    "warnings.filterwarnings('ignore')\n",
    "\n",
    "# 📂 1. 데이터 불러오기\n",
    "df = pd.read_csv('../data/WA_Fn-UseC_-HR-Employee-Attrition.csv')\n",
    "\n",
    "# 🎯 2. 타겟 인코딩\n",
    "df['Attrition'] = df['Attrition'].map({'Yes': 1, 'No': 0})\n",
    "\n",
    "# 🔄 3. 범주형 → 원핫 인코딩\n",
    "df = pd.get_dummies(df, drop_first=True)\n",
    "\n",
    "# ✅ 4. 주요 13개 변수 선택\n",
    "selected_columns = [\n",
    "    'Age', 'EnvironmentSatisfaction', 'JobInvolvement', 'JobLevel',\n",
    "    'JobSatisfaction', 'MonthlyIncome', 'OverTime_Yes', 'StockOptionLevel',\n",
    "    'TotalWorkingYears', 'YearsAtCompany', 'YearsInCurrentRole',\n",
    "    'YearsWithCurrManager', 'DistanceFromHome'\n",
    "]\n",
    "X = df[selected_columns]\n",
    "y = df['Attrition']\n",
    "\n",
    "# ⚖️ 5. 스케일링\n",
    "scaler = StandardScaler()\n",
    "X_scaled = scaler.fit_transform(X)\n",
    "\n",
    "# ⚖️ 6. SMOTE 적용\n",
    "smote = SMOTE(random_state=42)\n",
    "X_resampled, y_resampled = smote.fit_resample(X_scaled, y)\n",
    "\n",
    "# 🤖 7. MLP 모델 정의\n",
    "model = MLPClassifier(\n",
    "    hidden_layer_sizes=(100,),  # 은닉층 1개, 노드 100개\n",
    "    activation='relu',          # 활성화 함수\n",
    "    solver='adam',              # 옵티마이저\n",
    "    max_iter=300,               # 최대 반복 수\n",
    "    random_state=42\n",
    ")\n",
    "\n",
    "# 🔁 8. Stratified K-Fold 교차검증\n",
    "cv = StratifiedKFold(n_splits=5, shuffle=True, random_state=42)\n",
    "\n",
    "# 📊 9. 여러 평가지표로 성능 측정\n",
    "scoring = ['accuracy', 'precision', 'recall', 'f1', 'roc_auc']\n",
    "cv_results = cross_validate(model, X_resampled, y_resampled, cv=cv, scoring=scoring)\n",
    "\n",
    "# 📈 10. 결과 요약 출력\n",
    "print(\"✅ 5-Fold 교차검증 결과\")\n",
    "for metric in scoring:\n",
    "    print(f\"{metric.upper():<10}: {np.mean(cv_results['test_' + metric]):.4f}\")\n"
   ],
   "outputs": [
    {
     "name": "stdout",
     "output_type": "stream",
     "text": [
      "✅ 5-Fold 교차검증 결과\n",
      "ACCURACY  : 0.8820\n",
      "PRECISION : 0.8598\n",
      "RECALL    : 0.9132\n",
      "F1        : 0.8856\n",
      "ROC_AUC   : 0.9385\n"
     ]
    }
   ],
   "execution_count": 7
  },
  {
   "metadata": {},
   "cell_type": "code",
   "outputs": [],
   "execution_count": null,
   "source": "",
   "id": "20989e6d3fb9cdaa"
  }
 ],
 "metadata": {
  "kernelspec": {
   "display_name": "Python 3",
   "language": "python",
   "name": "python3"
  },
  "language_info": {
   "codemirror_mode": {
    "name": "ipython",
    "version": 2
   },
   "file_extension": ".py",
   "mimetype": "text/x-python",
   "name": "python",
   "nbconvert_exporter": "python",
   "pygments_lexer": "ipython2",
   "version": "2.7.6"
  }
 },
 "nbformat": 4,
 "nbformat_minor": 5
}
