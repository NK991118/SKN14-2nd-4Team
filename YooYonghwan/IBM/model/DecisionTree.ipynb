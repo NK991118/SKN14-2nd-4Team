{
 "cells": [
  {
   "metadata": {},
   "cell_type": "markdown",
   "source": "# DecisionTree",
   "id": "eea8ed1eafacc4a"
  },
  {
   "cell_type": "code",
   "id": "initial_id",
   "metadata": {
    "collapsed": true,
    "ExecuteTime": {
     "end_time": "2025-06-01T11:47:06.559235Z",
     "start_time": "2025-06-01T11:47:06.444541Z"
    }
   },
   "source": [
    "# 📌 라이브러리 불러오기\n",
    "import pandas as pd\n",
    "import numpy as np\n",
    "from sklearn.model_selection import train_test_split, StratifiedKFold, cross_val_score\n",
    "from sklearn.preprocessing import LabelEncoder, StandardScaler\n",
    "from sklearn.tree import DecisionTreeClassifier\n",
    "from sklearn.metrics import (confusion_matrix, classification_report, roc_auc_score,\n",
    "                             accuracy_score, precision_score, recall_score, f1_score,\n",
    "                             make_scorer, precision_recall_curve, average_precision_score, roc_curve)\n",
    "from imblearn.over_sampling import SMOTE\n",
    "import matplotlib.pyplot as plt\n",
    "import seaborn as sns\n",
    "\n",
    "# 📌 데이터 로드\n",
    "df = pd.read_csv(\"../data/WA_Fn-UseC_-HR-Employee-Attrition.csv\")\n",
    "df['Attrition'] = LabelEncoder().fit_transform(df['Attrition'])\n",
    "\n",
    "# 📌 주요 변수 (상관계수 기준 13개)\n",
    "selected_features = [\n",
    "    'Age', 'EnvironmentSatisfaction', 'JobInvolvement', 'JobLevel',\n",
    "    'JobSatisfaction', 'MaritalStatus', 'MonthlyIncome', 'OverTime',\n",
    "    'StockOptionLevel', 'TotalWorkingYears', 'YearsAtCompany',\n",
    "    'YearsInCurrentRole', 'YearsWithCurrManager'\n",
    "]\n",
    "\n",
    "# 📌 범주형 변수 인코딩\n",
    "df['OverTime'] = LabelEncoder().fit_transform(df['OverTime'])\n",
    "df['MaritalStatus'] = LabelEncoder().fit_transform(df['MaritalStatus'])\n",
    "\n",
    "# 📌 X, y 설정\n",
    "X = df[selected_features]\n",
    "y = df['Attrition']\n",
    "\n",
    "# 📌 X, y 설정\n",
    "X = df[selected_features]\n",
    "y = df['Attrition']\n",
    "\n",
    "# 📌 스케일링 (SMOTE 전에)\n",
    "scaler = StandardScaler()\n",
    "X_scaled = scaler.fit_transform(X)\n",
    "\n",
    "# 📌 SMOTE 적용\n",
    "smote = SMOTE(random_state=42)\n",
    "X_resampled, y_resampled = smote.fit_resample(X_scaled, y)\n",
    "\n",
    "# 📌 학습/테스트 분할\n",
    "X_train, X_test, y_train, y_test = train_test_split(\n",
    "    X_resampled, y_resampled, test_size=0.2, stratify=y_resampled, random_state=42\n",
    ")\n",
    "\n",
    "# 📌 Decision Tree 모델 학습\n",
    "model = DecisionTreeClassifier(random_state=42)\n",
    "model.fit(X_train, y_train)\n",
    "\n",
    "# 📌 예측\n",
    "y_pred = model.predict(X_test)\n",
    "y_prob = model.predict_proba(X_test)[:, 1]"
   ],
   "outputs": [],
   "execution_count": 3
  },
  {
   "metadata": {
    "ExecuteTime": {
     "end_time": "2025-06-01T11:47:07.785953Z",
     "start_time": "2025-06-01T11:47:06.671934Z"
    }
   },
   "cell_type": "code",
   "source": [
    "# 📌 교차검증 평가 지표 계산\n",
    "cv = StratifiedKFold(n_splits=5, shuffle=True, random_state=42)\n",
    "scorers = {\n",
    "    'f1': make_scorer(f1_score),\n",
    "    'accuracy': make_scorer(accuracy_score),\n",
    "    'precision': make_scorer(precision_score),\n",
    "    'recall': make_scorer(recall_score),\n",
    "    #'roc_auc': make_scorer(roc_auc_score, needs_proba=True)\n",
    "    'roc_auc': make_scorer(roc_auc_score)\n",
    "}\n",
    "cv_results = {\n",
    "    metric: cross_val_score(model, X_train, y_train, cv=cv, scoring=scorer).mean()\n",
    "    for metric, scorer in scorers.items()\n",
    "}\n",
    "cv_results['f1(Test)'] = f1_score(y_test, y_pred)\n",
    "\n",
    "# 📌 평가지표 출력\n",
    "print(\"\\n📊 DecisionTree 교차검증 + 테스트셋 성능:\")\n",
    "for metric, score in cv_results.items():\n",
    "    print(f\"{metric:<10}: {score:.4f}\")\n"
   ],
   "id": "85575e346bb01daa",
   "outputs": [
    {
     "name": "stdout",
     "output_type": "stream",
     "text": [
      "\n",
      "📊 DecisionTree 교차검증 + 테스트셋 성능:\n",
      "f1        : 0.8399\n",
      "accuracy  : 0.8372\n",
      "precision : 0.8268\n",
      "recall    : 0.8539\n",
      "roc_auc   : 0.8372\n",
      "f1(Test)  : 0.8538\n"
     ]
    }
   ],
   "execution_count": 4
  },
  {
   "metadata": {
    "ExecuteTime": {
     "end_time": "2025-06-01T11:14:17.400575Z",
     "start_time": "2025-06-01T11:14:07.967381Z"
    }
   },
   "cell_type": "code",
   "source": [
    "from sklearn.tree import DecisionTreeClassifier\n",
    "from sklearn.model_selection import GridSearchCV\n",
    "from sklearn.metrics import make_scorer, precision_score, recall_score, f1_score, accuracy_score, roc_auc_score\n",
    "from imblearn.pipeline import Pipeline\n",
    "from imblearn.over_sampling import SMOTE\n",
    "import warnings\n",
    "\n",
    "warnings.simplefilter(action='ignore', category=FutureWarning)\n",
    "\n",
    "# 🔧 하이퍼파라미터 후보 정의\n",
    "param_grid = {\n",
    "    'model__max_depth': [3, 5, 10, None],           # 트리 최대 깊이\n",
    "    'model__min_samples_split': [2, 5, 10],         # 노드를 나누기 위한 최소 샘플 수\n",
    "    'model__min_samples_leaf': [1, 2, 4]            # 리프 노드가 되기 위한 최소 샘플 수\n",
    "}\n",
    "\n",
    "# ⚙️ 파이프라인 정의: SMOTE → Decision Tree\n",
    "pipeline = Pipeline(steps=[\n",
    "    ('smote', SMOTE(random_state=42)),                      # 클래스 불균형 보정\n",
    "    ('model', DecisionTreeClassifier(random_state=42))      # 결정 트리 모델\n",
    "])\n",
    "\n",
    "# 📊 다양한 평가지표 정의\n",
    "scoring = {\n",
    "    'precision': make_scorer(precision_score),\n",
    "    'recall': make_scorer(recall_score),\n",
    "    'f1': make_scorer(f1_score),\n",
    "    'accuracy': make_scorer(accuracy_score),\n",
    "    'roc_auc': make_scorer(roc_auc_score)\n",
    "}\n",
    "\n",
    "# 📂 결과 저장용 딕셔너리\n",
    "results = {}\n",
    "\n",
    "# 🔁 precision, recall, f1 기준별로 각각 튜닝\n",
    "for metric in ['precision', 'recall', 'f1']:\n",
    "    grid = GridSearchCV(\n",
    "        estimator=pipeline,           # 파이프라인 전체를 탐색\n",
    "        param_grid=param_grid,        # 트리 하이퍼파라미터\n",
    "        scoring=scoring,              # 다양한 평가 지표\n",
    "        refit=metric,                 # metric 기준으로 최적 모델 선택\n",
    "        cv=5,                         # 5-Fold 교차검증\n",
    "        verbose=0,\n",
    "        n_jobs=-1,\n",
    "        return_train_score=True\n",
    "    )\n",
    "\n",
    "    # 🏋️ 그리드 서치 실행\n",
    "    grid.fit(X_train, y_train)\n",
    "\n",
    "    # ✅ 최적 파라미터 및 평가 결과 저장\n",
    "    best_index = grid.best_index_\n",
    "    results[metric] = {\n",
    "        'best_params': grid.best_params_,\n",
    "        'scores': {\n",
    "            'Precision': grid.cv_results_['mean_test_precision'][best_index],\n",
    "            'Recall': grid.cv_results_['mean_test_recall'][best_index],\n",
    "            'F1 Score': grid.cv_results_['mean_test_f1'][best_index],\n",
    "            'Accuracy': grid.cv_results_['mean_test_accuracy'][best_index],\n",
    "            'ROC AUC': grid.cv_results_['mean_test_roc_auc'][best_index]\n",
    "        }\n",
    "    }\n",
    "\n",
    "# 📢 모든 결과 출력\n",
    "for metric, content in results.items():\n",
    "    print(f\"\\n🎯 [기준: {metric.upper()}]\")\n",
    "    print(\"Best Parameters:\", content['best_params'])\n",
    "    for score_name, val in content['scores'].items():\n",
    "        print(f\"{score_name:12}: {val:.4f}\")\n"
   ],
   "id": "e5f6eed502b447c6",
   "outputs": [
    {
     "name": "stdout",
     "output_type": "stream",
     "text": [
      "\n",
      "🎯 [기준: PRECISION]\n",
      "Best Parameters: {'model__max_depth': 10, 'model__min_samples_leaf': 4, 'model__min_samples_split': 2}\n",
      "Precision   : 0.8600\n",
      "Recall      : 0.7850\n",
      "F1 Score    : 0.8207\n",
      "Accuracy    : 0.8286\n",
      "ROC AUC     : 0.8286\n",
      "\n",
      "🎯 [기준: RECALL]\n",
      "Best Parameters: {'model__max_depth': None, 'model__min_samples_leaf': 1, 'model__min_samples_split': 2}\n",
      "Precision   : 0.8232\n",
      "Recall      : 0.8479\n",
      "F1 Score    : 0.8349\n",
      "Accuracy    : 0.8326\n",
      "ROC AUC     : 0.8327\n",
      "\n",
      "🎯 [기준: F1]\n",
      "Best Parameters: {'model__max_depth': 10, 'model__min_samples_leaf': 1, 'model__min_samples_split': 2}\n",
      "Precision   : 0.8376\n",
      "Recall      : 0.8418\n",
      "F1 Score    : 0.8391\n",
      "Accuracy    : 0.8387\n",
      "ROC AUC     : 0.8387\n"
     ]
    }
   ],
   "execution_count": 24
  },
  {
   "metadata": {},
   "cell_type": "markdown",
   "source": [
    "🔍 주요 하이퍼파라미터 설명\n",
    "| 파라미터                | 설명                   |\n",
    "| ------------------- | -------------------- |\n",
    "| `max_depth`         | 트리 깊이를 제한하여 과적합 방지   |\n",
    "| `min_samples_split` | 분할을 위해 필요한 최소 샘플 수   |\n",
    "| `min_samples_leaf`  | 리프 노드가 되기 위한 최소 샘플 수 |\n"
   ],
   "id": "fa9ef4e580f16668"
  }
 ],
 "metadata": {
  "kernelspec": {
   "display_name": "Python 3",
   "language": "python",
   "name": "python3"
  },
  "language_info": {
   "codemirror_mode": {
    "name": "ipython",
    "version": 2
   },
   "file_extension": ".py",
   "mimetype": "text/x-python",
   "name": "python",
   "nbconvert_exporter": "python",
   "pygments_lexer": "ipython2",
   "version": "2.7.6"
  }
 },
 "nbformat": 4,
 "nbformat_minor": 5
}
