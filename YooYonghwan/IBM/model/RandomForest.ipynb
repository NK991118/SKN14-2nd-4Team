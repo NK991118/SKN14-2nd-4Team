{
 "cells": [
  {
   "metadata": {},
   "cell_type": "markdown",
   "source": [
    "🌳 Random Forest 정의\n",
    "- Random Forest는 여러 개의 결정 트리(Decision Tree)를 만들어 예측 결과를 앙상블(투표 or 평균) 하는 앙상블 학습 기법입니다.\n",
    "- 분류(Classification) → 여러 트리의 다수결로 결정\n",
    "- 회귀(Regression) → 여러 트리의 평균값으로 예측"
   ],
   "id": "c892caf8110c07e9"
  },
  {
   "metadata": {},
   "cell_type": "markdown",
   "source": [
    "🔧 Random Forest 메커니즘 <br>\n",
    "🧠 핵심 아이디어: \"여러 트리 → 더 나은 예측\" <br>\n",
    "| 단계                    | 설명                                                       |\n",
    "| --------------------- | -------------------------------------------------------- |\n",
    "| 1️⃣ **Bootstrap 샘플링** | 전체 데이터에서 **중복 허용하여 일부 샘플 무작위 추출** (각 트리마다 다르게)           |\n",
    "| 2️⃣ **무작위 피처 선택**     | 트리의 각 분기점에서 **전체 피처 중 일부만 무작위로 선택**해 분할 기준 선택            |\n",
    "| 3️⃣ **여러 트리 생성**      | 위 과정으로 **독립적인 트리들**을 생성                                  |\n",
    "| 4️⃣ **앙상블 예측**        | 분류: 트리들의 예측 결과 **투표(Majority Voting)**<br>회귀: **예측값 평균** |\n"
   ],
   "id": "c1dd6a00e255bee6"
  },
  {
   "metadata": {},
   "cell_type": "markdown",
   "source": [
    "✅ Random Forest가 뛰어난 이유\n",
    "| 이유               | 설명                                   |\n",
    "| ---------------- | ------------------------------------ |\n",
    "| 🎯 **과적합 방지**    | 여러 트리의 예측을 결합해 **개별 트리의 과적합 효과를 줄임** |\n",
    "| 🔀 **다양성 확보**    | 각 트리마다 **다른 데이터 + 다른 피처** → 예측 다양성 ↑ |\n",
    "| 📊 **피처 중요도 제공** | 각 피처의 분할 기여도를 합산하여 **중요도 출력 가능**     |\n"
   ],
   "id": "489be677ef7ce5fd"
  },
  {
   "metadata": {
    "ExecuteTime": {
     "end_time": "2025-06-01T11:53:03.779487Z",
     "start_time": "2025-06-01T11:53:03.281831Z"
    }
   },
   "cell_type": "code",
   "source": [
    "# 📦 라이브러리 import\n",
    "import pandas as pd\n",
    "import numpy as np\n",
    "from sklearn.model_selection import train_test_split, StratifiedKFold, cross_val_score\n",
    "from sklearn.preprocessing import LabelEncoder, StandardScaler\n",
    "from sklearn.ensemble import RandomForestClassifier\n",
    "from sklearn.metrics import (\n",
    "    f1_score, accuracy_score, precision_score, recall_score, roc_auc_score,\n",
    "    confusion_matrix, classification_report, make_scorer,\n",
    "    precision_recall_curve, average_precision_score, roc_curve\n",
    ")\n",
    "from imblearn.over_sampling import SMOTE\n",
    "import matplotlib.pyplot as plt\n",
    "import seaborn as sns"
   ],
   "id": "e02f51f70992fa71",
   "outputs": [],
   "execution_count": 2
  },
  {
   "metadata": {
    "ExecuteTime": {
     "end_time": "2025-06-01T11:53:03.809437Z",
     "start_time": "2025-06-01T11:53:03.787467Z"
    }
   },
   "cell_type": "code",
   "source": [
    "# 📂 데이터 로드\n",
    "df = pd.read_csv(\"../data/WA_Fn-UseC_-HR-Employee-Attrition.csv\")\n",
    "df['Attrition'] = LabelEncoder().fit_transform(df['Attrition'])\n"
   ],
   "id": "4e5e48f23d5f64b8",
   "outputs": [],
   "execution_count": 3
  },
  {
   "metadata": {
    "ExecuteTime": {
     "end_time": "2025-06-01T11:53:03.854288Z",
     "start_time": "2025-06-01T11:53:03.841321Z"
    }
   },
   "cell_type": "code",
   "source": [
    "# 🎯 주요 13개 변수 선택\n",
    "selected_features = [\n",
    "    'Age', 'EnvironmentSatisfaction', 'JobInvolvement', 'JobLevel',\n",
    "    'JobSatisfaction', 'MaritalStatus', 'MonthlyIncome', 'OverTime',\n",
    "    'StockOptionLevel', 'TotalWorkingYears', 'YearsAtCompany',\n",
    "    'YearsInCurrentRole', 'YearsWithCurrManager'\n",
    "]"
   ],
   "id": "9485051c92926005",
   "outputs": [],
   "execution_count": 4
  },
  {
   "metadata": {
    "ExecuteTime": {
     "end_time": "2025-06-01T11:53:03.884208Z",
     "start_time": "2025-06-01T11:53:03.872253Z"
    }
   },
   "cell_type": "code",
   "source": [
    "# 🔁 범주형 인코딩\n",
    "df['OverTime'] = LabelEncoder().fit_transform(df['OverTime'])\n",
    "df['MaritalStatus'] = LabelEncoder().fit_transform(df['MaritalStatus'])"
   ],
   "id": "f741a52cba41a14a",
   "outputs": [],
   "execution_count": 5
  },
  {
   "metadata": {
    "ExecuteTime": {
     "end_time": "2025-06-01T11:53:03.914128Z",
     "start_time": "2025-06-01T11:53:03.902159Z"
    }
   },
   "cell_type": "code",
   "source": [
    "# 🎯 X, y 분리\n",
    "X = df[selected_features]\n",
    "y = df['Attrition']"
   ],
   "id": "3413f311301e1c83",
   "outputs": [],
   "execution_count": 6
  },
  {
   "metadata": {
    "ExecuteTime": {
     "end_time": "2025-06-01T11:53:03.959797Z",
     "start_time": "2025-06-01T11:53:03.946192Z"
    }
   },
   "cell_type": "code",
   "source": [
    "# ⚖️ 스케일링\n",
    "scaler = StandardScaler()\n",
    "X_scaled = scaler.fit_transform(X)\n"
   ],
   "id": "e974774b5a634ff6",
   "outputs": [],
   "execution_count": 7
  },
  {
   "metadata": {
    "ExecuteTime": {
     "end_time": "2025-06-01T11:53:04.004708Z",
     "start_time": "2025-06-01T11:53:03.992709Z"
    }
   },
   "cell_type": "code",
   "source": [
    "# 📈 SMOTE로 클래스 불균형 해결\n",
    "smote = SMOTE(random_state=42)\n",
    "X_resampled, y_resampled = smote.fit_resample(X_scaled, y)\n"
   ],
   "id": "d21dadedb9639667",
   "outputs": [],
   "execution_count": 8
  },
  {
   "metadata": {
    "ExecuteTime": {
     "end_time": "2025-06-01T11:53:04.049557Z",
     "start_time": "2025-06-01T11:53:04.036591Z"
    }
   },
   "cell_type": "code",
   "source": [
    "# 🔀 학습/테스트셋 분리\n",
    "X_train, X_test, y_train, y_test = train_test_split(\n",
    "    X_resampled, y_resampled, test_size=0.2, stratify=y_resampled, random_state=42\n",
    ")\n"
   ],
   "id": "7ee231fd6a8ca370",
   "outputs": [],
   "execution_count": 9
  },
  {
   "metadata": {
    "ExecuteTime": {
     "end_time": "2025-06-01T11:53:04.318968Z",
     "start_time": "2025-06-01T11:53:04.081471Z"
    }
   },
   "cell_type": "code",
   "source": [
    "# 🌳 RandomForest 모델 학습\n",
    "model = RandomForestClassifier(n_estimators=100, max_depth=5, random_state=42)\n",
    "model.fit(X_train, y_train)\n",
    "y_pred = model.predict(X_test)\n",
    "y_prob = model.predict_proba(X_test)[:, 1]"
   ],
   "id": "4e38b89b406d2e0",
   "outputs": [],
   "execution_count": 10
  },
  {
   "metadata": {
    "ExecuteTime": {
     "end_time": "2025-06-01T11:53:11.637330Z",
     "start_time": "2025-06-01T11:53:06.088314Z"
    }
   },
   "cell_type": "code",
   "source": [
    "# ✅ 교차검증 평가 지표 (5개)\n",
    "cv = StratifiedKFold(n_splits=5, shuffle=True, random_state=42)\n",
    "scorers = {\n",
    "    'f1': make_scorer(f1_score),\n",
    "    'accuracy': make_scorer(accuracy_score),\n",
    "    'precision': make_scorer(precision_score),\n",
    "    'recall': make_scorer(recall_score),\n",
    "    #'roc_auc': make_scorer(roc_auc_score, needs_proba=True)\n",
    "    'roc_auc': make_scorer(roc_auc_score)\n",
    "}\n",
    "\n",
    "cv_results = {metric: cross_val_score(model, X_train, y_train, cv=cv, scoring=scorer).mean()\n",
    "              for metric, scorer in scorers.items()}\n",
    "\n",
    "cv_results['f1(Test)'] = f1_score(y_test, y_pred)\n",
    "# 📊 교차검증 + 테스트셋 성능 출력\n",
    "print(\"\\n📊 [Random Forest 교차검증 + 테스트셋 성능 지표]\")\n",
    "for metric, score in cv_results.items():\n",
    "    print(f\"{metric:10s}: {score:.4f}\")\n",
    "\n"
   ],
   "id": "c34c96b88d4f66f0",
   "outputs": [
    {
     "name": "stdout",
     "output_type": "stream",
     "text": [
      "\n",
      "📊 [Random Forest 교차검증 + 테스트셋 성능 지표]\n",
      "f1        : 0.8284\n",
      "accuracy  : 0.8316\n",
      "precision : 0.8442\n",
      "recall    : 0.8134\n",
      "roc_auc   : 0.8316\n",
      "f1(Test)  : 0.8417\n"
     ]
    }
   ],
   "execution_count": 11
  },
  {
   "metadata": {
    "ExecuteTime": {
     "end_time": "2025-06-01T11:16:41.200250Z",
     "start_time": "2025-06-01T11:16:08.404519Z"
    }
   },
   "cell_type": "code",
   "source": [
    "from sklearn.ensemble import RandomForestClassifier\n",
    "from sklearn.model_selection import GridSearchCV\n",
    "from sklearn.metrics import make_scorer, precision_score, recall_score, f1_score, accuracy_score, roc_auc_score\n",
    "from imblearn.pipeline import Pipeline\n",
    "from imblearn.over_sampling import SMOTE\n",
    "import warnings\n",
    "\n",
    "warnings.simplefilter(action='ignore', category=FutureWarning)\n",
    "\n",
    "# 🔧 하이퍼파라미터 후보 정의\n",
    "param_grid = {\n",
    "    'model__n_estimators': [100, 200],                  # 트리 개수\n",
    "    'model__max_depth': [None, 5, 10],                  # 최대 깊이\n",
    "    'model__min_samples_split': [2, 5],                 # 내부 노드 분할 최소 샘플 수\n",
    "    'model__min_samples_leaf': [1, 2]                   # 리프 노드 최소 샘플 수\n",
    "}\n",
    "\n",
    "# ⚙️ 파이프라인 정의: SMOTE → RandomForest\n",
    "pipeline = Pipeline(steps=[\n",
    "    ('smote', SMOTE(random_state=42)),                           # 클래스 불균형 처리\n",
    "    ('model', RandomForestClassifier(random_state=42))           # 랜덤 포레스트 모델\n",
    "])\n",
    "\n",
    "# 📊 평가지표 정의\n",
    "scoring = {\n",
    "    'precision': make_scorer(precision_score),\n",
    "    'recall': make_scorer(recall_score),\n",
    "    'f1': make_scorer(f1_score),\n",
    "    'accuracy': make_scorer(accuracy_score),\n",
    "    'roc_auc': make_scorer(roc_auc_score)\n",
    "}\n",
    "\n",
    "# 📂 결과 저장용 딕셔너리\n",
    "results = {}\n",
    "\n",
    "# 🔁 각각의 기준(f1, recall, precision)에 대해 하이퍼파라미터 튜닝 수행\n",
    "for metric in ['precision', 'recall', 'f1']:\n",
    "    grid = GridSearchCV(\n",
    "        estimator=pipeline,                 # 파이프라인 전체를 그리드 서치 대상으로\n",
    "        param_grid=param_grid,              # 랜덤 포레스트 하이퍼파라미터\n",
    "        scoring=scoring,                    # 여러 평가지표\n",
    "        refit=metric,                       # 해당 metric 기준으로 모델 선택\n",
    "        cv=5,                               # 5-Fold 교차검증\n",
    "        verbose=0,\n",
    "        n_jobs=-1,\n",
    "        return_train_score=True\n",
    "    )\n",
    "\n",
    "    # 🏋️ 하이퍼파라미터 탐색 실행\n",
    "    grid.fit(X_train, y_train)\n",
    "\n",
    "    # ✅ 최적 모델 정보 저장\n",
    "    best_index = grid.best_index_\n",
    "    results[metric] = {\n",
    "        'best_params': grid.best_params_,\n",
    "        'scores': {\n",
    "            'Precision': grid.cv_results_['mean_test_precision'][best_index],\n",
    "            'Recall': grid.cv_results_['mean_test_recall'][best_index],\n",
    "            'F1 Score': grid.cv_results_['mean_test_f1'][best_index],\n",
    "            'Accuracy': grid.cv_results_['mean_test_accuracy'][best_index],\n",
    "            'ROC AUC': grid.cv_results_['mean_test_roc_auc'][best_index]\n",
    "        }\n",
    "    }\n",
    "\n",
    "# 📤 결과 출력\n",
    "for metric, content in results.items():\n",
    "    print(f\"\\n🎯 [Refit 기준: {metric.upper()}]\")\n",
    "    print(\"Best Parameters:\", content['best_params'])\n",
    "    for score_name, val in content['scores'].items():\n",
    "        print(f\"{score_name:12}: {val:.4f}\")\n"
   ],
   "id": "65c2d5637b0a0dad",
   "outputs": [
    {
     "name": "stdout",
     "output_type": "stream",
     "text": [
      "\n",
      "🎯 [Refit 기준: PRECISION]\n",
      "Best Parameters: {'model__max_depth': None, 'model__min_samples_leaf': 1, 'model__min_samples_split': 2, 'model__n_estimators': 100}\n",
      "Precision   : 0.9242\n",
      "Recall      : 0.9026\n",
      "F1 Score    : 0.9132\n",
      "Accuracy    : 0.9143\n",
      "ROC AUC     : 0.9143\n",
      "\n",
      "🎯 [Refit 기준: RECALL]\n",
      "Best Parameters: {'model__max_depth': None, 'model__min_samples_leaf': 1, 'model__min_samples_split': 5, 'model__n_estimators': 100}\n",
      "Precision   : 0.9135\n",
      "Recall      : 0.9077\n",
      "F1 Score    : 0.9104\n",
      "Accuracy    : 0.9107\n",
      "ROC AUC     : 0.9108\n",
      "\n",
      "🎯 [Refit 기준: F1]\n",
      "Best Parameters: {'model__max_depth': None, 'model__min_samples_leaf': 1, 'model__min_samples_split': 2, 'model__n_estimators': 200}\n",
      "Precision   : 0.9216\n",
      "Recall      : 0.9057\n",
      "F1 Score    : 0.9134\n",
      "Accuracy    : 0.9143\n",
      "ROC AUC     : 0.9143\n"
     ]
    }
   ],
   "execution_count": 22
  },
  {
   "metadata": {},
   "cell_type": "markdown",
   "source": [
    "🔍 주요 하이퍼파라미터 설명\n",
    "| 하이퍼파라미터             | 설명                            |\n",
    "| ------------------- | ----------------------------- |\n",
    "| `n_estimators`      | 사용하는 트리의 개수 (많을수록 성능 ↑, 시간 ↑) |\n",
    "| `max_depth`         | 트리의 최대 깊이 제한                  |\n",
    "| `min_samples_split` | 노드를 분할하기 위한 최소 샘플 수           |\n",
    "| `min_samples_leaf`  | 리프 노드에 있어야 할 최소 샘플 수          |\n"
   ],
   "id": "9825f4ff95c0df78"
  }
 ],
 "metadata": {
  "kernelspec": {
   "display_name": "Python 3",
   "language": "python",
   "name": "python3"
  },
  "language_info": {
   "codemirror_mode": {
    "name": "ipython",
    "version": 2
   },
   "file_extension": ".py",
   "mimetype": "text/x-python",
   "name": "python",
   "nbconvert_exporter": "python",
   "pygments_lexer": "ipython2",
   "version": "2.7.6"
  }
 },
 "nbformat": 4,
 "nbformat_minor": 5
}
