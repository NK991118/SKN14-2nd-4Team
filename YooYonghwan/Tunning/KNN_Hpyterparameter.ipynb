{
 "cells": [
  {
   "metadata": {},
   "cell_type": "markdown",
   "source": [
    "🔧 주요 하이퍼파라미터\n",
    "| 파라미터          | 값 예시                                        | 설명                                                                                          |\n",
    "| ------------- | ------------------------------------------- | ------------------------------------------------------------------------------------------- |\n",
    "| `n_neighbors` | `3`, `5`, `7`, `9` 등                        | ✔️ **예측 시 참조할 이웃의 수 (k값)**<br>보통 홀수로 설정하여 다수결 무승부 방지                                        |\n",
    "| `weights`     | `'uniform'`, `'distance'`                   | ✔️ 이웃들의 **가중치 방식** 설정<br>• `'uniform'`: 모든 이웃에 동일한 가중치<br>• `'distance'`: 가까운 이웃일수록 더 큰 가중치 |\n",
    "| `metric`      | `'minkowski'`, `'euclidean'`, `'manhattan'` | ✔️ 거리 계산 방식<br>• `'minkowski'`는 일반화된 거리<br>• `p=2`일 때는 Euclidean, `p=1`이면 Manhattan         |\n",
    "| `p` (선택사항)    | `1`, `2` 등                                  | ✔️ `metric='minkowski'`일 때만 사용<br>• `p=1` → L1 거리 (맨해튼)<br>• `p=2` → L2 거리 (유클리드)           |\n"
   ],
   "id": "bf2b1fa0f1e669df"
  },
  {
   "metadata": {},
   "cell_type": "markdown",
   "source": [
    "| 파라미터          | 설명     | 추천 이유                                             |\n",
    "| ------------- | ------ | ------------------------------------------------- |\n",
    "| `n_neighbors` | 이웃 수   | 작으면 과적합(복잡), 크면 과소적합(단순). 보통 3\\~11 사이가 좋음         |\n",
    "| `weights`     | 가중치 방식 | `'distance'`는 노이즈나 클래스 불균형에 유리                    |\n",
    "| `metric`      | 거리 척도  | `euclidean`은 일반적, `manhattan`은 차원 수가 많거나 이상치에 강인함 |\n"
   ],
   "id": "b939526395f1a319"
  },
  {
   "metadata": {},
   "cell_type": "markdown",
   "source": [
    "⚙️ 동작 메커니즘 (분류 기준)\n",
    "입력 데이터와 훈련 샘플들 간의 거리를 계산\n",
    "\n",
    "가장 가까운 k개의 이웃을 선택\n",
    "\n",
    "선택된 이웃들의 레이블을 기반으로 다수결 투표하여 클래스 예측\n",
    "\n",
    "weights='uniform': 단순 다수결\n",
    "\n",
    "weights='distance': 가까운 이웃의 영향력을 높임\n",
    "\n",
    "새로운 샘플에 대한 예측 완료\n",
    "\n"
   ],
   "id": "822538bfe4f7002f"
  },
  {
   "metadata": {},
   "cell_type": "markdown",
   "source": [
    "📌 참고사항\n",
    "| 상황                                | 추천 설정                             |\n",
    "| --------------------------------- | --------------------------------- |\n",
    "| 데이터가 **희소하고 노이즈 많은 경우**           | `weights='distance'`가 더 안정적일 수 있음 |\n",
    "| 고차원 데이터 (curse of dimensionality) | KNN 성능 저하 가능 → 거리 의미가 사라짐         |\n",
    "| 모델 훈련은 빠름, 예측은 느림                 | 저장된 모든 훈련 데이터를 기준으로 거리 계산 필요      |\n"
   ],
   "id": "591d4c17141456ee"
  }
 ],
 "metadata": {
  "kernelspec": {
   "display_name": "Python 3",
   "language": "python",
   "name": "python3"
  },
  "language_info": {
   "codemirror_mode": {
    "name": "ipython",
    "version": 2
   },
   "file_extension": ".py",
   "mimetype": "text/x-python",
   "name": "python",
   "nbconvert_exporter": "python",
   "pygments_lexer": "ipython2",
   "version": "2.7.6"
  }
 },
 "nbformat": 4,
 "nbformat_minor": 5
}
