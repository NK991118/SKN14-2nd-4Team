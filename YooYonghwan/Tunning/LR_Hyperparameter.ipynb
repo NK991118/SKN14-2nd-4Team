{
 "cells": [
  {
   "metadata": {},
   "cell_type": "markdown",
   "source": [
    "# C : 규제 강도 (Regularization Strength)\n",
    "| C 값              | 규제 강도     | 모델 특성           | 과적합/과소적합    |\n",
    "| ---------------- | --------- | --------------- | ----------- |\n",
    "| 매우 작음 (`C=0.01`) | 규제가 매우 강함 | 가중치 축소 → 단순한 모델 | **과소적합 위험** |\n",
    "| 보통 (`C=1.0`)     | 적절한 규제    | 일반적으로 많이 사용됨    | 적절한 트레이드오프  |\n",
    "| 큼 (`C=10` 이상)    | 규제가 약함    | 가중치가 자유롭게 커짐    | **과적합 위험**  |\n",
    "\n",
    "\n",
    "주의: C가 클수록 가중치에 대한 패널티가 작아져, 모델이 더 자유롭게 데이터를 학습하게 됨"
   ],
   "id": "93003a8fd622721f"
  },
  {
   "metadata": {},
   "cell_type": "markdown",
   "source": [
    "# penalty : 규제 방식 (Regularization Type)\n",
    "| 방식             | 설명            | 장점                              | 단점                        | 사용 조건                               |\n",
    "| -------------- | ------------- | ------------------------------- | ------------------------- | ----------------------------------- |\n",
    "| `'l1'` (Lasso) | 절댓값 기반 규제     | **불필요한 특성을 제거**<br>→ 모델 단순화에 유리 | 해가 여러 개 가능<br>→ 불안정할 수 있음 | `solver='liblinear'` 또는 `'saga'` 필요 |\n",
    "| `'l2'` (Ridge) | 제곱 기반 규제      | **안정적인 학습**<br>→ 거의 모든 특성을 활용   | 중요하지 않은 특성도 남김            | 대부분의 solver에서 지원                    |\n",
    "| `'elasticnet'` | l1 + l2 혼합 규제 | **희소성(특성 선택) + 안정성** 동시 확보      | 추가 하이퍼파라미터(`l1_ratio`) 필요 | `solver='saga'`만 지원                 |\n",
    "\n",
    "실무에서는 일반적으로 'l2'를 기본값으로 사용\n"
   ],
   "id": "6eef01b66c757af9"
  },
  {
   "metadata": {},
   "cell_type": "markdown",
   "source": [
    "# solver : 최적화 알고리즘 선택\n",
    "| Solver 이름   | 지원 penalty                           | 특징                          | 장점                     | 단점                               | 권장 상황                 |\n",
    "| ----------- | ------------------------------------ | --------------------------- | ---------------------- | -------------------------------- | --------------------- |\n",
    "| `liblinear` | `'l1'`, `'l2'`                       | 작은 데이터셋에 적합한 **좌표축 하강법** 기반 | 빠르고 안정적                | `multinomial`, `elasticnet` 지원 ❌ | 이진 분류, 적은 데이터, 빠른 학습  |\n",
    "| `lbfgs`     | `'l2'` only                          | 수치 최적화 기반 Quasi-Newton 방식   | 안정적이고 빠름               | `'l1'`, `'elasticnet'` ❌         | 다중 클래스, 연속적 특성, 빠른 수렴 |\n",
    "| `newton-cg` | `'l2'` only                          | 2차 미분(Hessian)까지 사용         | 정밀한 계산 가능              | 계산량 많음                           | 고정밀 해가 필요할 때          |\n",
    "| `sag`       | `'l2'` only                          | 확률적 평균 경사하강법                | 대용량 데이터에 적합            | 희소 데이터에 비효율                      | 수백만 샘플 이상             |\n",
    "| `saga`      | `'l1'`, `'l2'`, `'elasticnet'` 모두 지원 | **희소성 + 대용량 모두** 적합         | 유일하게 `'elasticnet'` 지원 | 다른 solver보다 느릴 수 있음              | 희소, 대용량 데이터 + 규제 다룰 때 |\n"
   ],
   "id": "7af582d20c6eb75c"
  },
  {
   "metadata": {},
   "cell_type": "markdown",
   "source": [
    "# multi_class : 다중 분류 전략 (Multiclass Strategy)\n",
    "| 값                     | 설명                                                                                   |\n",
    "| --------------------- | ------------------------------------------------------------------------------------ |\n",
    "| `'ovr'` (One-vs-Rest) | 클래스마다 이진 분류기를 만들고, 확률이 가장 높은 클래스를 선택                                                 |\n",
    "| `'multinomial'`       | 전체 클래스를 동시에 고려하여 하나의 소프트맥스 함수로 확률 계산<br>→ 더 정교하지만, `lbfgs` 또는 `newton-cg` solver만 지원 |\n",
    "| `'auto'`              | 자동 선택 (데이터와 solver에 따라 `ovr` 또는 `multinomial` 중 결정)                                  |\n"
   ],
   "id": "587dceeffea6ff57"
  },
  {
   "metadata": {},
   "cell_type": "markdown",
   "source": [
    "✅ 정리표\n",
    "| 하이퍼파라미터       | 의미         | 주요 옵션                          | 실전 팁                     |\n",
    "| ------------- | ---------- | ------------------------------ | ------------------------ |\n",
    "| `C`           | 규제 강도 (역수) | 0.01, 0.1, 1, 10               | 값이 작을수록 규제가 강함           |\n",
    "| `penalty`     | 규제 방식      | `'l2'`, `'l1'`, `'elasticnet'` | `'l2'` 기본, `'l1'`은 특성 선택 |\n",
    "| `solver`      | 최적화 알고리즘   | `'liblinear'`, `'lbfgs'` 등     | penalty 옵션과 호환 중요        |\n",
    "| `multi_class` | 다중분류 전략    | `'ovr'`, `'multinomial'`       | `multinomial`은 확률 정밀도 ↑  |\n"
   ],
   "id": "ae8a6e627977943"
  }
 ],
 "metadata": {
  "kernelspec": {
   "display_name": "Python 3",
   "language": "python",
   "name": "python3"
  },
  "language_info": {
   "codemirror_mode": {
    "name": "ipython",
    "version": 2
   },
   "file_extension": ".py",
   "mimetype": "text/x-python",
   "name": "python",
   "nbconvert_exporter": "python",
   "pygments_lexer": "ipython2",
   "version": "2.7.6"
  }
 },
 "nbformat": 4,
 "nbformat_minor": 5
}
