{
 "cells": [
  {
   "metadata": {},
   "cell_type": "markdown",
   "source": [
    "🧠 1. PR Curve란? <br>\n",
    "PR Curve는 이진 분류 모델의 성능을 시각화하기 위한 도구로, 특히 양성 클래스에 대한 예측 성능을 평가할 때 유용합니다. <br>\n",
    "\n",
    "✅ 클래스 불균형이 심한 데이터셋에서 ROC Curve보다 더 정확한 성능 지표를 제공합니다."
   ],
   "id": "c72f8e7be8d5add6"
  },
  {
   "metadata": {},
   "cell_type": "markdown",
   "source": [
    "🧱 2. PR Curve의 축 구성\n",
    "| 축                  | 설명                                         |\n",
    "| ------------------ | ------------------------------------------ |\n",
    "| **x축 (Recall)**    | TP / (TP + FN)<br>→ 실제 양성을 얼마나 잘 맞췄는가      |\n",
    "| **y축 (Precision)** | TP / (TP + FP)<br>→ 양성이라 예측한 것 중 실제로 맞은 비율 |\n"
   ],
   "id": "fbc3ca1e13a26c0c"
  },
  {
   "metadata": {},
   "cell_type": "markdown",
   "source": [
    "⚙️ 3. 메커니즘 (동작 원리)\n",
    "모델의 예측 확률(probability) 기준으로 다양한 threshold 설정\n",
    "\n",
    "예: 0.1, 0.2, ..., 0.9\n",
    "\n",
    "각 threshold에서:\n",
    "\n",
    "TP, FP, FN 값을 계산\n",
    "\n",
    "Precision과 Recall 계산\n",
    "\n",
    "계산된 (Recall, Precision) 점들을 이은 선이 PR Curve\n",
    "\n"
   ],
   "id": "a62e54a83dd9b6fc"
  },
  {
   "metadata": {},
   "cell_type": "markdown",
   "source": [
    "🎯 4. PR Curve 해석 포인트 <br>\n",
    "곡선이 오른쪽 위로 갈수록 좋은 모델\n",
    "\n",
    "Precision과 Recall 사이의 trade-off를 관찰할 수 있음\n",
    "\n",
    "Threshold를 올리면 Precision은 높아지고 Recall은 낮아지는 경향"
   ],
   "id": "8229dee2fa045358"
  },
  {
   "metadata": {},
   "cell_type": "markdown",
   "source": [
    "🧮 5. Average Precision (AP)\n",
    "PR Curve 아래 면적을 계산한 값 <br>\n",
    "\n",
    "**Average Precision (AP)** 는 PR Curve의 AUC 개념\n",
    "\n",
    "값이 1에 가까울수록 좋음\n",
    "\n"
   ],
   "id": "64e440c5d7f78134"
  },
  {
   "metadata": {},
   "cell_type": "markdown",
   "source": [
    "🔍 ROC Curve vs PR Curve 비교\n",
    "| 항목     | ROC Curve    | PR Curve           |\n",
    "| ------ | ------------ | ------------------ |\n",
    "| X축     | FPR          | Recall             |\n",
    "| Y축     | TPR (Recall) | Precision          |\n",
    "| 적합한 경우 | 클래스 균형 문제    | 클래스 **불균형 문제**에 적합 |\n",
    "| 해석     | 전체 클래스 기준    | **양성 클래스** 성능 중심   |\n",
    "| 랜덤 기준선 | 대각선 (y = x)  | 양성 비율만큼의 수평선       |\n"
   ],
   "id": "a3c2d31824ec4588"
  }
 ],
 "metadata": {
  "kernelspec": {
   "display_name": "Python 3",
   "language": "python",
   "name": "python3"
  },
  "language_info": {
   "codemirror_mode": {
    "name": "ipython",
    "version": 2
   },
   "file_extension": ".py",
   "mimetype": "text/x-python",
   "name": "python",
   "nbconvert_exporter": "python",
   "pygments_lexer": "ipython2",
   "version": "2.7.6"
  }
 },
 "nbformat": 4,
 "nbformat_minor": 5
}
