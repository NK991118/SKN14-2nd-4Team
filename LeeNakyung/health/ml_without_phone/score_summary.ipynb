{
 "cells": [
  {
   "metadata": {},
   "cell_type": "markdown",
   "source": "# 모델 별 튜닝 후, Score 비교\n",
   "id": "e10ec046718422b2"
  },
  {
   "metadata": {},
   "cell_type": "markdown",
   "source": [
    "| 모델 이름                 | Class 1 F1-Score | Accuracy | 사용된 Best 하이퍼파라미터                                                                                                                            |\n",
    "| --------------------- | ---------------- | -------- | ------------------------------------------------------------------------------------------------------------------------------------------- |\n",
    "| **MLP**               | **0.91**         | **0.95** | `activation='relu'`, `alpha=0.0001`, `hidden_layer_sizes=(128,)`, `learning_rate='constant'`, `learning_rate_init=0.001`, `solver='adam'`   |\n",
    "| **XGBoost**           | 0.88             | 0.94     | `colsample_bytree=0.8`, `gamma=0`, `learning_rate=0.1`, `max_depth=5`, `n_estimators=200`, `reg_alpha=0.5`, `reg_lambda=1`, `subsample=1.0` |\n",
    "| **Voting Classifier** | 0.88             | 0.93     | (구성된 base 모델 미표기)                                                                                                                           |\n",
    "| **SVC**               | 0.86             | 0.92     | `C=10`, `gamma='auto'`, `kernel='rbf'`                                                                                                      |\n",
    "| **Random Forest**     | 0.84             | 0.92     | `bootstrap=True`, `max_depth=20`, `max_features='sqrt'`, `min_samples_leaf=1`, `min_samples_split=2`, `n_estimators=300`                    |\n",
    "| **Decision Tree**     | 0.81             | 0.90     | `criterion='gini'`, `max_depth=10`, `min_samples_leaf=4`, `min_samples_split=10`                                                            |\n",
    "| **KNN**               | 0.75             | 0.85     | (하이퍼파라미터 미표기)                                                                                                                               |"
   ],
   "id": "1594dcd38ebe4b5b"
  },
  {
   "metadata": {},
   "cell_type": "markdown",
   "source": [
    "MLP가 가장 높은 Class 1 F1-score와 Accuracy를 기록\n",
    "\n",
    "XGBoost와 VotingClassifier도 F1-score 0.88로 우수\n",
    "\n",
    "KNN은 성능이 가장 낮음 → 제외 후보"
   ],
   "id": "3406d6c960cf37be"
  }
 ],
 "metadata": {
  "kernelspec": {
   "display_name": "Python 3",
   "language": "python",
   "name": "python3"
  },
  "language_info": {
   "codemirror_mode": {
    "name": "ipython",
    "version": 2
   },
   "file_extension": ".py",
   "mimetype": "text/x-python",
   "name": "python",
   "nbconvert_exporter": "python",
   "pygments_lexer": "ipython2",
   "version": "2.7.6"
  }
 },
 "nbformat": 4,
 "nbformat_minor": 5
}
