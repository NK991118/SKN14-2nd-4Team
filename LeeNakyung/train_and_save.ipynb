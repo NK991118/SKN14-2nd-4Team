{
 "cells": [
  {
   "cell_type": "code",
   "id": "initial_id",
   "metadata": {
    "collapsed": true,
    "ExecuteTime": {
     "end_time": "2025-06-03T06:46:20.149363Z",
     "start_time": "2025-06-03T06:46:20.108373Z"
    }
   },
   "source": [
    "import pandas as pd\n",
    "from sklearn.model_selection import train_test_split\n",
    "from sklearn.preprocessing import StandardScaler\n",
    "from sklearn.linear_model import LogisticRegression\n",
    "import joblib\n",
    "\n",
    "# 1) 데이터 불러오기 (본인 데이터 경로로 바꿔주세요)\n",
    "df = pd.read_csv('./data/gym_churn.csv')\n",
    "\n",
    "# 2) 사용할 컬럼 선택\n",
    "X = df[['gender', 'Near_Location', 'Partner', 'Promo_friends', 'Contract_period',\n",
    "        'Group_visits', 'Age', 'Avg_additional_charges_total', 'Month_to_end_contract',\n",
    "        'Lifetime', 'Avg_class_frequency_total', 'Avg_class_frequency_current_month']]\n",
    "y = df['Churn']\n",
    "\n",
    "# 3) 학습용, 테스트용 데이터 나누기\n",
    "X_train, X_test, y_train, y_test = train_test_split(\n",
    "    X, y, stratify=y, test_size=0.2, random_state=42)\n",
    "\n",
    "# 4) 데이터 표준화 (평균0, 표준편차1로 맞추기)\n",
    "scaler = StandardScaler()\n",
    "X_train_scaled = scaler.fit_transform(X_train)\n",
    "\n",
    "# 5) 로지스틱 회귀 모델 학습\n",
    "model = LogisticRegression(class_weight='balanced', solver='saga', max_iter=1000, random_state=42)\n",
    "model.fit(X_train_scaled, y_train)\n",
    "\n",
    "# 6) 학습된 스케일러와 모델을 파일로 저장\n",
    "joblib.dump(scaler, 'scaler.joblib')\n",
    "joblib.dump(model, 'model.joblib')\n",
    "\n",
    "print(\"모델과 스케일러 저장 완료!\")"
   ],
   "outputs": [
    {
     "name": "stdout",
     "output_type": "stream",
     "text": [
      "모델과 스케일러 저장 완료!\n"
     ]
    }
   ],
   "execution_count": 2
  }
 ],
 "metadata": {
  "kernelspec": {
   "display_name": "Python 3",
   "language": "python",
   "name": "python3"
  },
  "language_info": {
   "codemirror_mode": {
    "name": "ipython",
    "version": 2
   },
   "file_extension": ".py",
   "mimetype": "text/x-python",
   "name": "python",
   "nbconvert_exporter": "python",
   "pygments_lexer": "ipython2",
   "version": "2.7.6"
  }
 },
 "nbformat": 4,
 "nbformat_minor": 5
}
