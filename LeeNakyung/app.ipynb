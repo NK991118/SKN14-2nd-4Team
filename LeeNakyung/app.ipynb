{
 "cells": [
  {
   "cell_type": "code",
   "id": "initial_id",
   "metadata": {
    "collapsed": true,
    "ExecuteTime": {
     "end_time": "2025-06-03T07:02:30.531639Z",
     "start_time": "2025-06-03T06:56:48.813855Z"
    }
   },
   "source": [
    "# 1. 스트림릿 앱 코드를 문자열로 작성\n",
    "app_code = \"\"\"\n",
    "import streamlit as st\n",
    "import pandas as pd\n",
    "import joblib\n",
    "\n",
    "# 저장된 scaler와 모델 로드\n",
    "scaler = joblib.load('scaler.joblib')\n",
    "model = joblib.load('model.joblib')\n",
    "\n",
    "st.title(\"Gym 회원 이탈 예측 앱\")\n",
    "\n",
    "# 사용자 입력 UI (사이드바)\n",
    "st.sidebar.header(\"새 회원 정보 입력\")\n",
    "gender = st.sidebar.selectbox(\"Gender\", options=[0, 1])\n",
    "Near_Location = st.sidebar.selectbox(\"Near Location\", options=[0, 1])\n",
    "Partner = st.sidebar.selectbox(\"Partner\", options=[0, 1])\n",
    "Promo_friends = st.sidebar.selectbox(\"Promo Friends\", options=[0, 1])\n",
    "Contract_period = st.sidebar.slider(\"Contract Period (months)\", 1, 12, 6)\n",
    "Group_visits = st.sidebar.selectbox(\"Group Visits\", options=[0, 1])\n",
    "Age = st.sidebar.slider(\"Age\", 18, 70, 30)\n",
    "Avg_additional_charges_total = st.sidebar.number_input(\"Avg Additional Charges Total\", 0.0, 100.0, 10.0)\n",
    "Month_to_end_contract = st.sidebar.slider(\"Month to End Contract\", 0, 12, 6)\n",
    "Lifetime = st.sidebar.slider(\"Lifetime (months)\", 1, 60, 12)\n",
    "Avg_class_frequency_total = st.sidebar.number_input(\"Avg Class Frequency Total\", 0.0, 20.0, 5.0)\n",
    "Avg_class_frequency_current_month = st.sidebar.number_input(\"Avg Class Frequency Current Month\", 0.0, 20.0, 5.0)\n",
    "\n",
    "input_df = pd.DataFrame({\n",
    "    'gender': [gender],\n",
    "    'Near_Location': [Near_Location],\n",
    "    'Partner': [Partner],\n",
    "    'Promo_friends': [Promo_friends],\n",
    "    'Contract_period': [Contract_period],\n",
    "    'Group_visits': [Group_visits],\n",
    "    'Age': [Age],\n",
    "    'Avg_additional_charges_total': [Avg_additional_charges_total],\n",
    "    'Month_to_end_contract': [Month_to_end_contract],\n",
    "    'Lifetime': [Lifetime],\n",
    "    'Avg_class_frequency_total': [Avg_class_frequency_total],\n",
    "    'Avg_class_frequency_current_month': [Avg_class_frequency_current_month]\n",
    "})\n",
    "\n",
    "if st.sidebar.button(\"예측하기\"):\n",
    "    input_scaled = scaler.transform(input_df)\n",
    "    pred = model.predict(input_scaled)[0]\n",
    "    pred_prob = model.predict_proba(input_scaled)[0][1]\n",
    "\n",
    "    st.write(\"### 예측 결과:\")\n",
    "    if pred == 1:\n",
    "        st.error(f\"이탈 가능성 높음 (확률: {pred_prob:.2f})\")\n",
    "    else:\n",
    "        st.success(f\"이탈 가능성 낮음 (확률: {pred_prob:.2f})\")\n",
    "\"\"\"\n",
    "\n",
    "# 2. .py 파일로 저장\n",
    "with open(\"app.py\", \"w\", encoding=\"utf-8\") as f:\n",
    "    f.write(app_code)\n",
    "\n",
    "# 3. 터미널에서 Streamlit 실행 (Jupyter에서 ! 명령어 사용)\n",
    "!streamlit run app.py\n"
   ],
   "outputs": [
    {
     "name": "stdout",
     "output_type": "stream",
     "text": [
      "^C\n"
     ]
    }
   ],
   "execution_count": 6
  }
 ],
 "metadata": {
  "kernelspec": {
   "display_name": "Python 3",
   "language": "python",
   "name": "python3"
  },
  "language_info": {
   "codemirror_mode": {
    "name": "ipython",
    "version": 2
   },
   "file_extension": ".py",
   "mimetype": "text/x-python",
   "name": "python",
   "nbconvert_exporter": "python",
   "pygments_lexer": "ipython2",
   "version": "2.7.6"
  }
 },
 "nbformat": 4,
 "nbformat_minor": 5
}
