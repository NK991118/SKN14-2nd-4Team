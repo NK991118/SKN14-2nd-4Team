{
 "cells": [
  {
   "cell_type": "code",
   "id": "initial_id",
   "metadata": {
    "collapsed": true,
    "ExecuteTime": {
     "end_time": "2025-06-01T11:55:05.834765Z",
     "start_time": "2025-06-01T11:55:02.264019Z"
    }
   },
   "source": [
    "import pandas as pd\n",
    "import numpy as np\n",
    "from sklearn.preprocessing import StandardScaler\n",
    "from sklearn.model_selection import StratifiedKFold, cross_validate\n",
    "from sklearn.linear_model import LogisticRegression\n",
    "from sklearn.tree import DecisionTreeClassifier\n",
    "from sklearn.svm import SVC\n",
    "from sklearn.ensemble import VotingClassifier\n",
    "from imblearn.over_sampling import SMOTE\n",
    "import warnings\n",
    "warnings.filterwarnings('ignore')\n",
    "\n",
    "# 📂 1. 데이터 불러오기\n",
    "df = pd.read_csv('../data/WA_Fn-UseC_-HR-Employee-Attrition.csv')\n",
    "\n",
    "# 🎯 2. 타겟 인코딩\n",
    "df['Attrition'] = df['Attrition'].map({'Yes': 1, 'No': 0})\n",
    "\n",
    "# 🔄 3. 범주형 → 원핫 인코딩\n",
    "df = pd.get_dummies(df, drop_first=True)\n",
    "\n",
    "# ✅ 4. 주요 13개 변수 선택\n",
    "selected_columns = [\n",
    "    'Age', 'EnvironmentSatisfaction', 'JobInvolvement', 'JobLevel',\n",
    "    'JobSatisfaction', 'MonthlyIncome', 'OverTime_Yes', 'StockOptionLevel',\n",
    "    'TotalWorkingYears', 'YearsAtCompany', 'YearsInCurrentRole',\n",
    "    'YearsWithCurrManager', 'DistanceFromHome'\n",
    "]\n",
    "X = df[selected_columns]\n",
    "y = df['Attrition']\n",
    "\n",
    "# ⚖️ 5. 스케일링\n",
    "scaler = StandardScaler()\n",
    "X_scaled = scaler.fit_transform(X)\n",
    "\n",
    "# ⚖️ 6. SMOTE 적용\n",
    "smote = SMOTE(random_state=42)\n",
    "X_resampled, y_resampled = smote.fit_resample(X_scaled, y)\n",
    "\n",
    "# 🤖 7. 개별 모델 정의\n",
    "log_clf = LogisticRegression(max_iter=1000, random_state=42)\n",
    "tree_clf = DecisionTreeClassifier(max_depth=5, random_state=42)\n",
    "svc_clf = SVC(probability=True, kernel='rbf', random_state=42)\n",
    "\n",
    "# 🤝 8. VotingClassifier 정의 (soft voting)\n",
    "voting_clf = VotingClassifier(\n",
    "    estimators=[\n",
    "        ('lr', log_clf),\n",
    "        ('dt', tree_clf),\n",
    "        ('svc', svc_clf)\n",
    "    ],\n",
    "    voting='soft'\n",
    ")\n",
    "\n",
    "# 🔁 9. Stratified K-Fold 교차검증\n",
    "cv = StratifiedKFold(n_splits=5, shuffle=True, random_state=42)\n",
    "\n",
    "# 📊 10. 여러 평가지표로 성능 측정\n",
    "scoring = ['accuracy', 'precision', 'recall', 'f1', 'roc_auc']\n",
    "cv_results = cross_validate(voting_clf, X_resampled, y_resampled, cv=cv, scoring=scoring)\n",
    "\n",
    "# 📈 11. 결과 요약 출력\n",
    "print(\"✅ VotingClassifier - 5-Fold 교차검증 결과\")\n",
    "for metric in scoring:\n",
    "    print(f\"{metric.upper():<10}: {np.mean(cv_results['test_' + metric]):.4f}\")\n"
   ],
   "outputs": [
    {
     "name": "stdout",
     "output_type": "stream",
     "text": [
      "✅ VotingClassifier - 5-Fold 교차검증 결과\n",
      "ACCURACY  : 0.8301\n",
      "PRECISION : 0.8351\n",
      "RECALL    : 0.8232\n",
      "F1        : 0.8290\n",
      "ROC_AUC   : 0.9085\n"
     ]
    }
   ],
   "execution_count": 3
  },
  {
   "metadata": {},
   "cell_type": "code",
   "outputs": [],
   "execution_count": null,
   "source": "",
   "id": "543b7a54e98f8363"
  }
 ],
 "metadata": {
  "kernelspec": {
   "display_name": "Python 3",
   "language": "python",
   "name": "python3"
  },
  "language_info": {
   "codemirror_mode": {
    "name": "ipython",
    "version": 2
   },
   "file_extension": ".py",
   "mimetype": "text/x-python",
   "name": "python",
   "nbconvert_exporter": "python",
   "pygments_lexer": "ipython2",
   "version": "2.7.6"
  }
 },
 "nbformat": 4,
 "nbformat_minor": 5
}
